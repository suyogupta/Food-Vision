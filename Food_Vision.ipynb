{
  "nbformat": 4,
  "nbformat_minor": 0,
  "metadata": {
    "colab": {
      "name": "Food Vision.ipynb",
      "provenance": [],
      "collapsed_sections": []
    },
    "kernelspec": {
      "name": "python3",
      "display_name": "Python 3"
    },
    "language_info": {
      "name": "python"
    },
    "accelerator": "GPU",
    "gpuClass": "standard",
    "widgets": {
      "application/vnd.jupyter.widget-state+json": {
        "ebff2d2ecb904f918ed873356636679e": {
          "model_module": "@jupyter-widgets/controls",
          "model_name": "HBoxModel",
          "model_module_version": "1.5.0",
          "state": {
            "_dom_classes": [],
            "_model_module": "@jupyter-widgets/controls",
            "_model_module_version": "1.5.0",
            "_model_name": "HBoxModel",
            "_view_count": null,
            "_view_module": "@jupyter-widgets/controls",
            "_view_module_version": "1.5.0",
            "_view_name": "HBoxView",
            "box_style": "",
            "children": [
              "IPY_MODEL_0e3d3c16b40b4fe788c2d132f9b6ff25",
              "IPY_MODEL_6c18a2bb3be341a385648345748ad67c",
              "IPY_MODEL_ace08ecbed5a49609e4dad473f4dfe3c"
            ],
            "layout": "IPY_MODEL_d6f800d59bac44708f92e3cf6cb0e79c"
          }
        },
        "0e3d3c16b40b4fe788c2d132f9b6ff25": {
          "model_module": "@jupyter-widgets/controls",
          "model_name": "HTMLModel",
          "model_module_version": "1.5.0",
          "state": {
            "_dom_classes": [],
            "_model_module": "@jupyter-widgets/controls",
            "_model_module_version": "1.5.0",
            "_model_name": "HTMLModel",
            "_view_count": null,
            "_view_module": "@jupyter-widgets/controls",
            "_view_module_version": "1.5.0",
            "_view_name": "HTMLView",
            "description": "",
            "description_tooltip": null,
            "layout": "IPY_MODEL_7ff584c492eb4bed8f92497a7b330986",
            "placeholder": "​",
            "style": "IPY_MODEL_283a9e5da8014f3192b119e0e8f7da97",
            "value": "Dl Completed...: 100%"
          }
        },
        "6c18a2bb3be341a385648345748ad67c": {
          "model_module": "@jupyter-widgets/controls",
          "model_name": "FloatProgressModel",
          "model_module_version": "1.5.0",
          "state": {
            "_dom_classes": [],
            "_model_module": "@jupyter-widgets/controls",
            "_model_module_version": "1.5.0",
            "_model_name": "FloatProgressModel",
            "_view_count": null,
            "_view_module": "@jupyter-widgets/controls",
            "_view_module_version": "1.5.0",
            "_view_name": "ProgressView",
            "bar_style": "success",
            "description": "",
            "description_tooltip": null,
            "layout": "IPY_MODEL_fdecfbea4d864299aaa33702ebb49b62",
            "max": 1,
            "min": 0,
            "orientation": "horizontal",
            "style": "IPY_MODEL_702df2e4da024875a09ab29c6cf87a63",
            "value": 1
          }
        },
        "ace08ecbed5a49609e4dad473f4dfe3c": {
          "model_module": "@jupyter-widgets/controls",
          "model_name": "HTMLModel",
          "model_module_version": "1.5.0",
          "state": {
            "_dom_classes": [],
            "_model_module": "@jupyter-widgets/controls",
            "_model_module_version": "1.5.0",
            "_model_name": "HTMLModel",
            "_view_count": null,
            "_view_module": "@jupyter-widgets/controls",
            "_view_module_version": "1.5.0",
            "_view_name": "HTMLView",
            "description": "",
            "description_tooltip": null,
            "layout": "IPY_MODEL_4a12fb0d8128415889482942b10cda84",
            "placeholder": "​",
            "style": "IPY_MODEL_33093c8eb4144cc696c0d43979def2a3",
            "value": " 1/1 [04:23&lt;00:00, 185.37s/ url]"
          }
        },
        "d6f800d59bac44708f92e3cf6cb0e79c": {
          "model_module": "@jupyter-widgets/base",
          "model_name": "LayoutModel",
          "model_module_version": "1.2.0",
          "state": {
            "_model_module": "@jupyter-widgets/base",
            "_model_module_version": "1.2.0",
            "_model_name": "LayoutModel",
            "_view_count": null,
            "_view_module": "@jupyter-widgets/base",
            "_view_module_version": "1.2.0",
            "_view_name": "LayoutView",
            "align_content": null,
            "align_items": null,
            "align_self": null,
            "border": null,
            "bottom": null,
            "display": null,
            "flex": null,
            "flex_flow": null,
            "grid_area": null,
            "grid_auto_columns": null,
            "grid_auto_flow": null,
            "grid_auto_rows": null,
            "grid_column": null,
            "grid_gap": null,
            "grid_row": null,
            "grid_template_areas": null,
            "grid_template_columns": null,
            "grid_template_rows": null,
            "height": null,
            "justify_content": null,
            "justify_items": null,
            "left": null,
            "margin": null,
            "max_height": null,
            "max_width": null,
            "min_height": null,
            "min_width": null,
            "object_fit": null,
            "object_position": null,
            "order": null,
            "overflow": null,
            "overflow_x": null,
            "overflow_y": null,
            "padding": null,
            "right": null,
            "top": null,
            "visibility": null,
            "width": null
          }
        },
        "7ff584c492eb4bed8f92497a7b330986": {
          "model_module": "@jupyter-widgets/base",
          "model_name": "LayoutModel",
          "model_module_version": "1.2.0",
          "state": {
            "_model_module": "@jupyter-widgets/base",
            "_model_module_version": "1.2.0",
            "_model_name": "LayoutModel",
            "_view_count": null,
            "_view_module": "@jupyter-widgets/base",
            "_view_module_version": "1.2.0",
            "_view_name": "LayoutView",
            "align_content": null,
            "align_items": null,
            "align_self": null,
            "border": null,
            "bottom": null,
            "display": null,
            "flex": null,
            "flex_flow": null,
            "grid_area": null,
            "grid_auto_columns": null,
            "grid_auto_flow": null,
            "grid_auto_rows": null,
            "grid_column": null,
            "grid_gap": null,
            "grid_row": null,
            "grid_template_areas": null,
            "grid_template_columns": null,
            "grid_template_rows": null,
            "height": null,
            "justify_content": null,
            "justify_items": null,
            "left": null,
            "margin": null,
            "max_height": null,
            "max_width": null,
            "min_height": null,
            "min_width": null,
            "object_fit": null,
            "object_position": null,
            "order": null,
            "overflow": null,
            "overflow_x": null,
            "overflow_y": null,
            "padding": null,
            "right": null,
            "top": null,
            "visibility": null,
            "width": null
          }
        },
        "283a9e5da8014f3192b119e0e8f7da97": {
          "model_module": "@jupyter-widgets/controls",
          "model_name": "DescriptionStyleModel",
          "model_module_version": "1.5.0",
          "state": {
            "_model_module": "@jupyter-widgets/controls",
            "_model_module_version": "1.5.0",
            "_model_name": "DescriptionStyleModel",
            "_view_count": null,
            "_view_module": "@jupyter-widgets/base",
            "_view_module_version": "1.2.0",
            "_view_name": "StyleView",
            "description_width": ""
          }
        },
        "fdecfbea4d864299aaa33702ebb49b62": {
          "model_module": "@jupyter-widgets/base",
          "model_name": "LayoutModel",
          "model_module_version": "1.2.0",
          "state": {
            "_model_module": "@jupyter-widgets/base",
            "_model_module_version": "1.2.0",
            "_model_name": "LayoutModel",
            "_view_count": null,
            "_view_module": "@jupyter-widgets/base",
            "_view_module_version": "1.2.0",
            "_view_name": "LayoutView",
            "align_content": null,
            "align_items": null,
            "align_self": null,
            "border": null,
            "bottom": null,
            "display": null,
            "flex": null,
            "flex_flow": null,
            "grid_area": null,
            "grid_auto_columns": null,
            "grid_auto_flow": null,
            "grid_auto_rows": null,
            "grid_column": null,
            "grid_gap": null,
            "grid_row": null,
            "grid_template_areas": null,
            "grid_template_columns": null,
            "grid_template_rows": null,
            "height": null,
            "justify_content": null,
            "justify_items": null,
            "left": null,
            "margin": null,
            "max_height": null,
            "max_width": null,
            "min_height": null,
            "min_width": null,
            "object_fit": null,
            "object_position": null,
            "order": null,
            "overflow": null,
            "overflow_x": null,
            "overflow_y": null,
            "padding": null,
            "right": null,
            "top": null,
            "visibility": null,
            "width": "20px"
          }
        },
        "702df2e4da024875a09ab29c6cf87a63": {
          "model_module": "@jupyter-widgets/controls",
          "model_name": "ProgressStyleModel",
          "model_module_version": "1.5.0",
          "state": {
            "_model_module": "@jupyter-widgets/controls",
            "_model_module_version": "1.5.0",
            "_model_name": "ProgressStyleModel",
            "_view_count": null,
            "_view_module": "@jupyter-widgets/base",
            "_view_module_version": "1.2.0",
            "_view_name": "StyleView",
            "bar_color": null,
            "description_width": ""
          }
        },
        "4a12fb0d8128415889482942b10cda84": {
          "model_module": "@jupyter-widgets/base",
          "model_name": "LayoutModel",
          "model_module_version": "1.2.0",
          "state": {
            "_model_module": "@jupyter-widgets/base",
            "_model_module_version": "1.2.0",
            "_model_name": "LayoutModel",
            "_view_count": null,
            "_view_module": "@jupyter-widgets/base",
            "_view_module_version": "1.2.0",
            "_view_name": "LayoutView",
            "align_content": null,
            "align_items": null,
            "align_self": null,
            "border": null,
            "bottom": null,
            "display": null,
            "flex": null,
            "flex_flow": null,
            "grid_area": null,
            "grid_auto_columns": null,
            "grid_auto_flow": null,
            "grid_auto_rows": null,
            "grid_column": null,
            "grid_gap": null,
            "grid_row": null,
            "grid_template_areas": null,
            "grid_template_columns": null,
            "grid_template_rows": null,
            "height": null,
            "justify_content": null,
            "justify_items": null,
            "left": null,
            "margin": null,
            "max_height": null,
            "max_width": null,
            "min_height": null,
            "min_width": null,
            "object_fit": null,
            "object_position": null,
            "order": null,
            "overflow": null,
            "overflow_x": null,
            "overflow_y": null,
            "padding": null,
            "right": null,
            "top": null,
            "visibility": null,
            "width": null
          }
        },
        "33093c8eb4144cc696c0d43979def2a3": {
          "model_module": "@jupyter-widgets/controls",
          "model_name": "DescriptionStyleModel",
          "model_module_version": "1.5.0",
          "state": {
            "_model_module": "@jupyter-widgets/controls",
            "_model_module_version": "1.5.0",
            "_model_name": "DescriptionStyleModel",
            "_view_count": null,
            "_view_module": "@jupyter-widgets/base",
            "_view_module_version": "1.2.0",
            "_view_name": "StyleView",
            "description_width": ""
          }
        },
        "45a8c1b7e7ec4526b2fea102818f9b6b": {
          "model_module": "@jupyter-widgets/controls",
          "model_name": "HBoxModel",
          "model_module_version": "1.5.0",
          "state": {
            "_dom_classes": [],
            "_model_module": "@jupyter-widgets/controls",
            "_model_module_version": "1.5.0",
            "_model_name": "HBoxModel",
            "_view_count": null,
            "_view_module": "@jupyter-widgets/controls",
            "_view_module_version": "1.5.0",
            "_view_name": "HBoxView",
            "box_style": "",
            "children": [
              "IPY_MODEL_dcbca53a002d4c6a89cbe91bc268f798",
              "IPY_MODEL_d8b8954232ea4c23a36b4162b805e222",
              "IPY_MODEL_f067892ab8da4f0dad984fef02ade041"
            ],
            "layout": "IPY_MODEL_e83233c24175438cbd82bcb85230feae"
          }
        },
        "dcbca53a002d4c6a89cbe91bc268f798": {
          "model_module": "@jupyter-widgets/controls",
          "model_name": "HTMLModel",
          "model_module_version": "1.5.0",
          "state": {
            "_dom_classes": [],
            "_model_module": "@jupyter-widgets/controls",
            "_model_module_version": "1.5.0",
            "_model_name": "HTMLModel",
            "_view_count": null,
            "_view_module": "@jupyter-widgets/controls",
            "_view_module_version": "1.5.0",
            "_view_name": "HTMLView",
            "description": "",
            "description_tooltip": null,
            "layout": "IPY_MODEL_259d16ffced64989aced0f375161137e",
            "placeholder": "​",
            "style": "IPY_MODEL_80137c998a83425f8a24e9db974fa05a",
            "value": "Dl Size...: 100%"
          }
        },
        "d8b8954232ea4c23a36b4162b805e222": {
          "model_module": "@jupyter-widgets/controls",
          "model_name": "FloatProgressModel",
          "model_module_version": "1.5.0",
          "state": {
            "_dom_classes": [],
            "_model_module": "@jupyter-widgets/controls",
            "_model_module_version": "1.5.0",
            "_model_name": "FloatProgressModel",
            "_view_count": null,
            "_view_module": "@jupyter-widgets/controls",
            "_view_module_version": "1.5.0",
            "_view_name": "ProgressView",
            "bar_style": "success",
            "description": "",
            "description_tooltip": null,
            "layout": "IPY_MODEL_1f5b7fc7324e41928b001e6c89f9db51",
            "max": 1,
            "min": 0,
            "orientation": "horizontal",
            "style": "IPY_MODEL_b4acd64f3b6b4c63b60b6b3302350464",
            "value": 1
          }
        },
        "f067892ab8da4f0dad984fef02ade041": {
          "model_module": "@jupyter-widgets/controls",
          "model_name": "HTMLModel",
          "model_module_version": "1.5.0",
          "state": {
            "_dom_classes": [],
            "_model_module": "@jupyter-widgets/controls",
            "_model_module_version": "1.5.0",
            "_model_name": "HTMLModel",
            "_view_count": null,
            "_view_module": "@jupyter-widgets/controls",
            "_view_module_version": "1.5.0",
            "_view_name": "HTMLView",
            "description": "",
            "description_tooltip": null,
            "layout": "IPY_MODEL_b284fa5aa1914d8884068c929b708773",
            "placeholder": "​",
            "style": "IPY_MODEL_533b97516ae34b81b3d628a995405578",
            "value": " 4764/4764 [04:23&lt;00:00, 26.83 MiB/s]"
          }
        },
        "e83233c24175438cbd82bcb85230feae": {
          "model_module": "@jupyter-widgets/base",
          "model_name": "LayoutModel",
          "model_module_version": "1.2.0",
          "state": {
            "_model_module": "@jupyter-widgets/base",
            "_model_module_version": "1.2.0",
            "_model_name": "LayoutModel",
            "_view_count": null,
            "_view_module": "@jupyter-widgets/base",
            "_view_module_version": "1.2.0",
            "_view_name": "LayoutView",
            "align_content": null,
            "align_items": null,
            "align_self": null,
            "border": null,
            "bottom": null,
            "display": null,
            "flex": null,
            "flex_flow": null,
            "grid_area": null,
            "grid_auto_columns": null,
            "grid_auto_flow": null,
            "grid_auto_rows": null,
            "grid_column": null,
            "grid_gap": null,
            "grid_row": null,
            "grid_template_areas": null,
            "grid_template_columns": null,
            "grid_template_rows": null,
            "height": null,
            "justify_content": null,
            "justify_items": null,
            "left": null,
            "margin": null,
            "max_height": null,
            "max_width": null,
            "min_height": null,
            "min_width": null,
            "object_fit": null,
            "object_position": null,
            "order": null,
            "overflow": null,
            "overflow_x": null,
            "overflow_y": null,
            "padding": null,
            "right": null,
            "top": null,
            "visibility": null,
            "width": null
          }
        },
        "259d16ffced64989aced0f375161137e": {
          "model_module": "@jupyter-widgets/base",
          "model_name": "LayoutModel",
          "model_module_version": "1.2.0",
          "state": {
            "_model_module": "@jupyter-widgets/base",
            "_model_module_version": "1.2.0",
            "_model_name": "LayoutModel",
            "_view_count": null,
            "_view_module": "@jupyter-widgets/base",
            "_view_module_version": "1.2.0",
            "_view_name": "LayoutView",
            "align_content": null,
            "align_items": null,
            "align_self": null,
            "border": null,
            "bottom": null,
            "display": null,
            "flex": null,
            "flex_flow": null,
            "grid_area": null,
            "grid_auto_columns": null,
            "grid_auto_flow": null,
            "grid_auto_rows": null,
            "grid_column": null,
            "grid_gap": null,
            "grid_row": null,
            "grid_template_areas": null,
            "grid_template_columns": null,
            "grid_template_rows": null,
            "height": null,
            "justify_content": null,
            "justify_items": null,
            "left": null,
            "margin": null,
            "max_height": null,
            "max_width": null,
            "min_height": null,
            "min_width": null,
            "object_fit": null,
            "object_position": null,
            "order": null,
            "overflow": null,
            "overflow_x": null,
            "overflow_y": null,
            "padding": null,
            "right": null,
            "top": null,
            "visibility": null,
            "width": null
          }
        },
        "80137c998a83425f8a24e9db974fa05a": {
          "model_module": "@jupyter-widgets/controls",
          "model_name": "DescriptionStyleModel",
          "model_module_version": "1.5.0",
          "state": {
            "_model_module": "@jupyter-widgets/controls",
            "_model_module_version": "1.5.0",
            "_model_name": "DescriptionStyleModel",
            "_view_count": null,
            "_view_module": "@jupyter-widgets/base",
            "_view_module_version": "1.2.0",
            "_view_name": "StyleView",
            "description_width": ""
          }
        },
        "1f5b7fc7324e41928b001e6c89f9db51": {
          "model_module": "@jupyter-widgets/base",
          "model_name": "LayoutModel",
          "model_module_version": "1.2.0",
          "state": {
            "_model_module": "@jupyter-widgets/base",
            "_model_module_version": "1.2.0",
            "_model_name": "LayoutModel",
            "_view_count": null,
            "_view_module": "@jupyter-widgets/base",
            "_view_module_version": "1.2.0",
            "_view_name": "LayoutView",
            "align_content": null,
            "align_items": null,
            "align_self": null,
            "border": null,
            "bottom": null,
            "display": null,
            "flex": null,
            "flex_flow": null,
            "grid_area": null,
            "grid_auto_columns": null,
            "grid_auto_flow": null,
            "grid_auto_rows": null,
            "grid_column": null,
            "grid_gap": null,
            "grid_row": null,
            "grid_template_areas": null,
            "grid_template_columns": null,
            "grid_template_rows": null,
            "height": null,
            "justify_content": null,
            "justify_items": null,
            "left": null,
            "margin": null,
            "max_height": null,
            "max_width": null,
            "min_height": null,
            "min_width": null,
            "object_fit": null,
            "object_position": null,
            "order": null,
            "overflow": null,
            "overflow_x": null,
            "overflow_y": null,
            "padding": null,
            "right": null,
            "top": null,
            "visibility": null,
            "width": "20px"
          }
        },
        "b4acd64f3b6b4c63b60b6b3302350464": {
          "model_module": "@jupyter-widgets/controls",
          "model_name": "ProgressStyleModel",
          "model_module_version": "1.5.0",
          "state": {
            "_model_module": "@jupyter-widgets/controls",
            "_model_module_version": "1.5.0",
            "_model_name": "ProgressStyleModel",
            "_view_count": null,
            "_view_module": "@jupyter-widgets/base",
            "_view_module_version": "1.2.0",
            "_view_name": "StyleView",
            "bar_color": null,
            "description_width": ""
          }
        },
        "b284fa5aa1914d8884068c929b708773": {
          "model_module": "@jupyter-widgets/base",
          "model_name": "LayoutModel",
          "model_module_version": "1.2.0",
          "state": {
            "_model_module": "@jupyter-widgets/base",
            "_model_module_version": "1.2.0",
            "_model_name": "LayoutModel",
            "_view_count": null,
            "_view_module": "@jupyter-widgets/base",
            "_view_module_version": "1.2.0",
            "_view_name": "LayoutView",
            "align_content": null,
            "align_items": null,
            "align_self": null,
            "border": null,
            "bottom": null,
            "display": null,
            "flex": null,
            "flex_flow": null,
            "grid_area": null,
            "grid_auto_columns": null,
            "grid_auto_flow": null,
            "grid_auto_rows": null,
            "grid_column": null,
            "grid_gap": null,
            "grid_row": null,
            "grid_template_areas": null,
            "grid_template_columns": null,
            "grid_template_rows": null,
            "height": null,
            "justify_content": null,
            "justify_items": null,
            "left": null,
            "margin": null,
            "max_height": null,
            "max_width": null,
            "min_height": null,
            "min_width": null,
            "object_fit": null,
            "object_position": null,
            "order": null,
            "overflow": null,
            "overflow_x": null,
            "overflow_y": null,
            "padding": null,
            "right": null,
            "top": null,
            "visibility": null,
            "width": null
          }
        },
        "533b97516ae34b81b3d628a995405578": {
          "model_module": "@jupyter-widgets/controls",
          "model_name": "DescriptionStyleModel",
          "model_module_version": "1.5.0",
          "state": {
            "_model_module": "@jupyter-widgets/controls",
            "_model_module_version": "1.5.0",
            "_model_name": "DescriptionStyleModel",
            "_view_count": null,
            "_view_module": "@jupyter-widgets/base",
            "_view_module_version": "1.2.0",
            "_view_name": "StyleView",
            "description_width": ""
          }
        },
        "1495a80a2055489ea612af1dac2faa3b": {
          "model_module": "@jupyter-widgets/controls",
          "model_name": "HBoxModel",
          "model_module_version": "1.5.0",
          "state": {
            "_dom_classes": [],
            "_model_module": "@jupyter-widgets/controls",
            "_model_module_version": "1.5.0",
            "_model_name": "HBoxModel",
            "_view_count": null,
            "_view_module": "@jupyter-widgets/controls",
            "_view_module_version": "1.5.0",
            "_view_name": "HBoxView",
            "box_style": "",
            "children": [
              "IPY_MODEL_72ca1bf5f91c4ed3b59146b11b4744e8",
              "IPY_MODEL_aceffe55a8694359ab441f4c87c584e6",
              "IPY_MODEL_2dd73842f413463594c48b7bc395625b"
            ],
            "layout": "IPY_MODEL_a4e7453ab0644fc4adcd79b586ecc4c8"
          }
        },
        "72ca1bf5f91c4ed3b59146b11b4744e8": {
          "model_module": "@jupyter-widgets/controls",
          "model_name": "HTMLModel",
          "model_module_version": "1.5.0",
          "state": {
            "_dom_classes": [],
            "_model_module": "@jupyter-widgets/controls",
            "_model_module_version": "1.5.0",
            "_model_name": "HTMLModel",
            "_view_count": null,
            "_view_module": "@jupyter-widgets/controls",
            "_view_module_version": "1.5.0",
            "_view_name": "HTMLView",
            "description": "",
            "description_tooltip": null,
            "layout": "IPY_MODEL_e6db8ef965fb45cd96573c9da1c4f66f",
            "placeholder": "​",
            "style": "IPY_MODEL_253293e80a3546d9a854c3c5e58555fa",
            "value": "Extraction completed...: 100%"
          }
        },
        "aceffe55a8694359ab441f4c87c584e6": {
          "model_module": "@jupyter-widgets/controls",
          "model_name": "FloatProgressModel",
          "model_module_version": "1.5.0",
          "state": {
            "_dom_classes": [],
            "_model_module": "@jupyter-widgets/controls",
            "_model_module_version": "1.5.0",
            "_model_name": "FloatProgressModel",
            "_view_count": null,
            "_view_module": "@jupyter-widgets/controls",
            "_view_module_version": "1.5.0",
            "_view_name": "ProgressView",
            "bar_style": "success",
            "description": "",
            "description_tooltip": null,
            "layout": "IPY_MODEL_0061fe2b333a46b4b919b6760964fc01",
            "max": 1,
            "min": 0,
            "orientation": "horizontal",
            "style": "IPY_MODEL_2bae8a2be3834a8ead5b4162ec6abc9d",
            "value": 1
          }
        },
        "2dd73842f413463594c48b7bc395625b": {
          "model_module": "@jupyter-widgets/controls",
          "model_name": "HTMLModel",
          "model_module_version": "1.5.0",
          "state": {
            "_dom_classes": [],
            "_model_module": "@jupyter-widgets/controls",
            "_model_module_version": "1.5.0",
            "_model_name": "HTMLModel",
            "_view_count": null,
            "_view_module": "@jupyter-widgets/controls",
            "_view_module_version": "1.5.0",
            "_view_name": "HTMLView",
            "description": "",
            "description_tooltip": null,
            "layout": "IPY_MODEL_bf11602e41494cb1bf3cfcc5cd299467",
            "placeholder": "​",
            "style": "IPY_MODEL_89eba8c375ac41ac9244999675f4172e",
            "value": " 1/1 [04:23&lt;00:00, 263.90s/ file]"
          }
        },
        "a4e7453ab0644fc4adcd79b586ecc4c8": {
          "model_module": "@jupyter-widgets/base",
          "model_name": "LayoutModel",
          "model_module_version": "1.2.0",
          "state": {
            "_model_module": "@jupyter-widgets/base",
            "_model_module_version": "1.2.0",
            "_model_name": "LayoutModel",
            "_view_count": null,
            "_view_module": "@jupyter-widgets/base",
            "_view_module_version": "1.2.0",
            "_view_name": "LayoutView",
            "align_content": null,
            "align_items": null,
            "align_self": null,
            "border": null,
            "bottom": null,
            "display": null,
            "flex": null,
            "flex_flow": null,
            "grid_area": null,
            "grid_auto_columns": null,
            "grid_auto_flow": null,
            "grid_auto_rows": null,
            "grid_column": null,
            "grid_gap": null,
            "grid_row": null,
            "grid_template_areas": null,
            "grid_template_columns": null,
            "grid_template_rows": null,
            "height": null,
            "justify_content": null,
            "justify_items": null,
            "left": null,
            "margin": null,
            "max_height": null,
            "max_width": null,
            "min_height": null,
            "min_width": null,
            "object_fit": null,
            "object_position": null,
            "order": null,
            "overflow": null,
            "overflow_x": null,
            "overflow_y": null,
            "padding": null,
            "right": null,
            "top": null,
            "visibility": null,
            "width": null
          }
        },
        "e6db8ef965fb45cd96573c9da1c4f66f": {
          "model_module": "@jupyter-widgets/base",
          "model_name": "LayoutModel",
          "model_module_version": "1.2.0",
          "state": {
            "_model_module": "@jupyter-widgets/base",
            "_model_module_version": "1.2.0",
            "_model_name": "LayoutModel",
            "_view_count": null,
            "_view_module": "@jupyter-widgets/base",
            "_view_module_version": "1.2.0",
            "_view_name": "LayoutView",
            "align_content": null,
            "align_items": null,
            "align_self": null,
            "border": null,
            "bottom": null,
            "display": null,
            "flex": null,
            "flex_flow": null,
            "grid_area": null,
            "grid_auto_columns": null,
            "grid_auto_flow": null,
            "grid_auto_rows": null,
            "grid_column": null,
            "grid_gap": null,
            "grid_row": null,
            "grid_template_areas": null,
            "grid_template_columns": null,
            "grid_template_rows": null,
            "height": null,
            "justify_content": null,
            "justify_items": null,
            "left": null,
            "margin": null,
            "max_height": null,
            "max_width": null,
            "min_height": null,
            "min_width": null,
            "object_fit": null,
            "object_position": null,
            "order": null,
            "overflow": null,
            "overflow_x": null,
            "overflow_y": null,
            "padding": null,
            "right": null,
            "top": null,
            "visibility": null,
            "width": null
          }
        },
        "253293e80a3546d9a854c3c5e58555fa": {
          "model_module": "@jupyter-widgets/controls",
          "model_name": "DescriptionStyleModel",
          "model_module_version": "1.5.0",
          "state": {
            "_model_module": "@jupyter-widgets/controls",
            "_model_module_version": "1.5.0",
            "_model_name": "DescriptionStyleModel",
            "_view_count": null,
            "_view_module": "@jupyter-widgets/base",
            "_view_module_version": "1.2.0",
            "_view_name": "StyleView",
            "description_width": ""
          }
        },
        "0061fe2b333a46b4b919b6760964fc01": {
          "model_module": "@jupyter-widgets/base",
          "model_name": "LayoutModel",
          "model_module_version": "1.2.0",
          "state": {
            "_model_module": "@jupyter-widgets/base",
            "_model_module_version": "1.2.0",
            "_model_name": "LayoutModel",
            "_view_count": null,
            "_view_module": "@jupyter-widgets/base",
            "_view_module_version": "1.2.0",
            "_view_name": "LayoutView",
            "align_content": null,
            "align_items": null,
            "align_self": null,
            "border": null,
            "bottom": null,
            "display": null,
            "flex": null,
            "flex_flow": null,
            "grid_area": null,
            "grid_auto_columns": null,
            "grid_auto_flow": null,
            "grid_auto_rows": null,
            "grid_column": null,
            "grid_gap": null,
            "grid_row": null,
            "grid_template_areas": null,
            "grid_template_columns": null,
            "grid_template_rows": null,
            "height": null,
            "justify_content": null,
            "justify_items": null,
            "left": null,
            "margin": null,
            "max_height": null,
            "max_width": null,
            "min_height": null,
            "min_width": null,
            "object_fit": null,
            "object_position": null,
            "order": null,
            "overflow": null,
            "overflow_x": null,
            "overflow_y": null,
            "padding": null,
            "right": null,
            "top": null,
            "visibility": null,
            "width": "20px"
          }
        },
        "2bae8a2be3834a8ead5b4162ec6abc9d": {
          "model_module": "@jupyter-widgets/controls",
          "model_name": "ProgressStyleModel",
          "model_module_version": "1.5.0",
          "state": {
            "_model_module": "@jupyter-widgets/controls",
            "_model_module_version": "1.5.0",
            "_model_name": "ProgressStyleModel",
            "_view_count": null,
            "_view_module": "@jupyter-widgets/base",
            "_view_module_version": "1.2.0",
            "_view_name": "StyleView",
            "bar_color": null,
            "description_width": ""
          }
        },
        "bf11602e41494cb1bf3cfcc5cd299467": {
          "model_module": "@jupyter-widgets/base",
          "model_name": "LayoutModel",
          "model_module_version": "1.2.0",
          "state": {
            "_model_module": "@jupyter-widgets/base",
            "_model_module_version": "1.2.0",
            "_model_name": "LayoutModel",
            "_view_count": null,
            "_view_module": "@jupyter-widgets/base",
            "_view_module_version": "1.2.0",
            "_view_name": "LayoutView",
            "align_content": null,
            "align_items": null,
            "align_self": null,
            "border": null,
            "bottom": null,
            "display": null,
            "flex": null,
            "flex_flow": null,
            "grid_area": null,
            "grid_auto_columns": null,
            "grid_auto_flow": null,
            "grid_auto_rows": null,
            "grid_column": null,
            "grid_gap": null,
            "grid_row": null,
            "grid_template_areas": null,
            "grid_template_columns": null,
            "grid_template_rows": null,
            "height": null,
            "justify_content": null,
            "justify_items": null,
            "left": null,
            "margin": null,
            "max_height": null,
            "max_width": null,
            "min_height": null,
            "min_width": null,
            "object_fit": null,
            "object_position": null,
            "order": null,
            "overflow": null,
            "overflow_x": null,
            "overflow_y": null,
            "padding": null,
            "right": null,
            "top": null,
            "visibility": null,
            "width": null
          }
        },
        "89eba8c375ac41ac9244999675f4172e": {
          "model_module": "@jupyter-widgets/controls",
          "model_name": "DescriptionStyleModel",
          "model_module_version": "1.5.0",
          "state": {
            "_model_module": "@jupyter-widgets/controls",
            "_model_module_version": "1.5.0",
            "_model_name": "DescriptionStyleModel",
            "_view_count": null,
            "_view_module": "@jupyter-widgets/base",
            "_view_module_version": "1.2.0",
            "_view_name": "StyleView",
            "description_width": ""
          }
        },
        "69f7aec50d5e443fa16ac36a35e5b432": {
          "model_module": "@jupyter-widgets/controls",
          "model_name": "HBoxModel",
          "model_module_version": "1.5.0",
          "state": {
            "_dom_classes": [],
            "_model_module": "@jupyter-widgets/controls",
            "_model_module_version": "1.5.0",
            "_model_name": "HBoxModel",
            "_view_count": null,
            "_view_module": "@jupyter-widgets/controls",
            "_view_module_version": "1.5.0",
            "_view_name": "HBoxView",
            "box_style": "",
            "children": [
              "IPY_MODEL_0206ae52c3ac42c18ecc6c4bcc5b07af",
              "IPY_MODEL_7af2a70cba8b4b0a9296cdf136c749ff",
              "IPY_MODEL_ff2b0f93d7324cea87a86e4aa2f7edac"
            ],
            "layout": "IPY_MODEL_e59d27a180b84dc9ae33d6c79d7b628e"
          }
        },
        "0206ae52c3ac42c18ecc6c4bcc5b07af": {
          "model_module": "@jupyter-widgets/controls",
          "model_name": "HTMLModel",
          "model_module_version": "1.5.0",
          "state": {
            "_dom_classes": [],
            "_model_module": "@jupyter-widgets/controls",
            "_model_module_version": "1.5.0",
            "_model_name": "HTMLModel",
            "_view_count": null,
            "_view_module": "@jupyter-widgets/controls",
            "_view_module_version": "1.5.0",
            "_view_name": "HTMLView",
            "description": "",
            "description_tooltip": null,
            "layout": "IPY_MODEL_8c90e7b05b3a48bd9672bbabca71f5df",
            "placeholder": "​",
            "style": "IPY_MODEL_c6447a04148243fba31679cd1fe62f7d",
            "value": ""
          }
        },
        "7af2a70cba8b4b0a9296cdf136c749ff": {
          "model_module": "@jupyter-widgets/controls",
          "model_name": "FloatProgressModel",
          "model_module_version": "1.5.0",
          "state": {
            "_dom_classes": [],
            "_model_module": "@jupyter-widgets/controls",
            "_model_module_version": "1.5.0",
            "_model_name": "FloatProgressModel",
            "_view_count": null,
            "_view_module": "@jupyter-widgets/controls",
            "_view_module_version": "1.5.0",
            "_view_name": "ProgressView",
            "bar_style": "info",
            "description": "",
            "description_tooltip": null,
            "layout": "IPY_MODEL_1ef5a2afd64046aea865d220d331de34",
            "max": 1,
            "min": 0,
            "orientation": "horizontal",
            "style": "IPY_MODEL_add92de715d84083bbb0fea9f6971e96",
            "value": 1
          }
        },
        "ff2b0f93d7324cea87a86e4aa2f7edac": {
          "model_module": "@jupyter-widgets/controls",
          "model_name": "HTMLModel",
          "model_module_version": "1.5.0",
          "state": {
            "_dom_classes": [],
            "_model_module": "@jupyter-widgets/controls",
            "_model_module_version": "1.5.0",
            "_model_name": "HTMLModel",
            "_view_count": null,
            "_view_module": "@jupyter-widgets/controls",
            "_view_module_version": "1.5.0",
            "_view_name": "HTMLView",
            "description": "",
            "description_tooltip": null,
            "layout": "IPY_MODEL_504e2494819346e39c235ffc767c98d8",
            "placeholder": "​",
            "style": "IPY_MODEL_2228e1cfc6614dabbc710a470beade4f",
            "value": " 75668/0 [01:48&lt;00:00, 802.00 examples/s]"
          }
        },
        "e59d27a180b84dc9ae33d6c79d7b628e": {
          "model_module": "@jupyter-widgets/base",
          "model_name": "LayoutModel",
          "model_module_version": "1.2.0",
          "state": {
            "_model_module": "@jupyter-widgets/base",
            "_model_module_version": "1.2.0",
            "_model_name": "LayoutModel",
            "_view_count": null,
            "_view_module": "@jupyter-widgets/base",
            "_view_module_version": "1.2.0",
            "_view_name": "LayoutView",
            "align_content": null,
            "align_items": null,
            "align_self": null,
            "border": null,
            "bottom": null,
            "display": null,
            "flex": null,
            "flex_flow": null,
            "grid_area": null,
            "grid_auto_columns": null,
            "grid_auto_flow": null,
            "grid_auto_rows": null,
            "grid_column": null,
            "grid_gap": null,
            "grid_row": null,
            "grid_template_areas": null,
            "grid_template_columns": null,
            "grid_template_rows": null,
            "height": null,
            "justify_content": null,
            "justify_items": null,
            "left": null,
            "margin": null,
            "max_height": null,
            "max_width": null,
            "min_height": null,
            "min_width": null,
            "object_fit": null,
            "object_position": null,
            "order": null,
            "overflow": null,
            "overflow_x": null,
            "overflow_y": null,
            "padding": null,
            "right": null,
            "top": null,
            "visibility": null,
            "width": null
          }
        },
        "8c90e7b05b3a48bd9672bbabca71f5df": {
          "model_module": "@jupyter-widgets/base",
          "model_name": "LayoutModel",
          "model_module_version": "1.2.0",
          "state": {
            "_model_module": "@jupyter-widgets/base",
            "_model_module_version": "1.2.0",
            "_model_name": "LayoutModel",
            "_view_count": null,
            "_view_module": "@jupyter-widgets/base",
            "_view_module_version": "1.2.0",
            "_view_name": "LayoutView",
            "align_content": null,
            "align_items": null,
            "align_self": null,
            "border": null,
            "bottom": null,
            "display": null,
            "flex": null,
            "flex_flow": null,
            "grid_area": null,
            "grid_auto_columns": null,
            "grid_auto_flow": null,
            "grid_auto_rows": null,
            "grid_column": null,
            "grid_gap": null,
            "grid_row": null,
            "grid_template_areas": null,
            "grid_template_columns": null,
            "grid_template_rows": null,
            "height": null,
            "justify_content": null,
            "justify_items": null,
            "left": null,
            "margin": null,
            "max_height": null,
            "max_width": null,
            "min_height": null,
            "min_width": null,
            "object_fit": null,
            "object_position": null,
            "order": null,
            "overflow": null,
            "overflow_x": null,
            "overflow_y": null,
            "padding": null,
            "right": null,
            "top": null,
            "visibility": null,
            "width": null
          }
        },
        "c6447a04148243fba31679cd1fe62f7d": {
          "model_module": "@jupyter-widgets/controls",
          "model_name": "DescriptionStyleModel",
          "model_module_version": "1.5.0",
          "state": {
            "_model_module": "@jupyter-widgets/controls",
            "_model_module_version": "1.5.0",
            "_model_name": "DescriptionStyleModel",
            "_view_count": null,
            "_view_module": "@jupyter-widgets/base",
            "_view_module_version": "1.2.0",
            "_view_name": "StyleView",
            "description_width": ""
          }
        },
        "1ef5a2afd64046aea865d220d331de34": {
          "model_module": "@jupyter-widgets/base",
          "model_name": "LayoutModel",
          "model_module_version": "1.2.0",
          "state": {
            "_model_module": "@jupyter-widgets/base",
            "_model_module_version": "1.2.0",
            "_model_name": "LayoutModel",
            "_view_count": null,
            "_view_module": "@jupyter-widgets/base",
            "_view_module_version": "1.2.0",
            "_view_name": "LayoutView",
            "align_content": null,
            "align_items": null,
            "align_self": null,
            "border": null,
            "bottom": null,
            "display": null,
            "flex": null,
            "flex_flow": null,
            "grid_area": null,
            "grid_auto_columns": null,
            "grid_auto_flow": null,
            "grid_auto_rows": null,
            "grid_column": null,
            "grid_gap": null,
            "grid_row": null,
            "grid_template_areas": null,
            "grid_template_columns": null,
            "grid_template_rows": null,
            "height": null,
            "justify_content": null,
            "justify_items": null,
            "left": null,
            "margin": null,
            "max_height": null,
            "max_width": null,
            "min_height": null,
            "min_width": null,
            "object_fit": null,
            "object_position": null,
            "order": null,
            "overflow": null,
            "overflow_x": null,
            "overflow_y": null,
            "padding": null,
            "right": null,
            "top": null,
            "visibility": null,
            "width": "20px"
          }
        },
        "add92de715d84083bbb0fea9f6971e96": {
          "model_module": "@jupyter-widgets/controls",
          "model_name": "ProgressStyleModel",
          "model_module_version": "1.5.0",
          "state": {
            "_model_module": "@jupyter-widgets/controls",
            "_model_module_version": "1.5.0",
            "_model_name": "ProgressStyleModel",
            "_view_count": null,
            "_view_module": "@jupyter-widgets/base",
            "_view_module_version": "1.2.0",
            "_view_name": "StyleView",
            "bar_color": null,
            "description_width": ""
          }
        },
        "504e2494819346e39c235ffc767c98d8": {
          "model_module": "@jupyter-widgets/base",
          "model_name": "LayoutModel",
          "model_module_version": "1.2.0",
          "state": {
            "_model_module": "@jupyter-widgets/base",
            "_model_module_version": "1.2.0",
            "_model_name": "LayoutModel",
            "_view_count": null,
            "_view_module": "@jupyter-widgets/base",
            "_view_module_version": "1.2.0",
            "_view_name": "LayoutView",
            "align_content": null,
            "align_items": null,
            "align_self": null,
            "border": null,
            "bottom": null,
            "display": null,
            "flex": null,
            "flex_flow": null,
            "grid_area": null,
            "grid_auto_columns": null,
            "grid_auto_flow": null,
            "grid_auto_rows": null,
            "grid_column": null,
            "grid_gap": null,
            "grid_row": null,
            "grid_template_areas": null,
            "grid_template_columns": null,
            "grid_template_rows": null,
            "height": null,
            "justify_content": null,
            "justify_items": null,
            "left": null,
            "margin": null,
            "max_height": null,
            "max_width": null,
            "min_height": null,
            "min_width": null,
            "object_fit": null,
            "object_position": null,
            "order": null,
            "overflow": null,
            "overflow_x": null,
            "overflow_y": null,
            "padding": null,
            "right": null,
            "top": null,
            "visibility": null,
            "width": null
          }
        },
        "2228e1cfc6614dabbc710a470beade4f": {
          "model_module": "@jupyter-widgets/controls",
          "model_name": "DescriptionStyleModel",
          "model_module_version": "1.5.0",
          "state": {
            "_model_module": "@jupyter-widgets/controls",
            "_model_module_version": "1.5.0",
            "_model_name": "DescriptionStyleModel",
            "_view_count": null,
            "_view_module": "@jupyter-widgets/base",
            "_view_module_version": "1.2.0",
            "_view_name": "StyleView",
            "description_width": ""
          }
        },
        "e0fa567870e54b02bfc96967bc80f868": {
          "model_module": "@jupyter-widgets/controls",
          "model_name": "HBoxModel",
          "model_module_version": "1.5.0",
          "state": {
            "_dom_classes": [],
            "_model_module": "@jupyter-widgets/controls",
            "_model_module_version": "1.5.0",
            "_model_name": "HBoxModel",
            "_view_count": null,
            "_view_module": "@jupyter-widgets/controls",
            "_view_module_version": "1.5.0",
            "_view_name": "HBoxView",
            "box_style": "",
            "children": [
              "IPY_MODEL_6adab0cb1840492b8ddc27083a6fc572",
              "IPY_MODEL_94b628f2c2964531a19c37ad8e4aa697",
              "IPY_MODEL_a2cd64bd223a44cc876d7a8d86076437"
            ],
            "layout": "IPY_MODEL_b22cb2086237410097a261b7062f36b1"
          }
        },
        "6adab0cb1840492b8ddc27083a6fc572": {
          "model_module": "@jupyter-widgets/controls",
          "model_name": "HTMLModel",
          "model_module_version": "1.5.0",
          "state": {
            "_dom_classes": [],
            "_model_module": "@jupyter-widgets/controls",
            "_model_module_version": "1.5.0",
            "_model_name": "HTMLModel",
            "_view_count": null,
            "_view_module": "@jupyter-widgets/controls",
            "_view_module_version": "1.5.0",
            "_view_name": "HTMLView",
            "description": "",
            "description_tooltip": null,
            "layout": "IPY_MODEL_07f2ea213fad41ecbd669e1dd916d22b",
            "placeholder": "​",
            "style": "IPY_MODEL_898f03a69253402c88369169fd6d5236",
            "value": "100%"
          }
        },
        "94b628f2c2964531a19c37ad8e4aa697": {
          "model_module": "@jupyter-widgets/controls",
          "model_name": "FloatProgressModel",
          "model_module_version": "1.5.0",
          "state": {
            "_dom_classes": [],
            "_model_module": "@jupyter-widgets/controls",
            "_model_module_version": "1.5.0",
            "_model_name": "FloatProgressModel",
            "_view_count": null,
            "_view_module": "@jupyter-widgets/controls",
            "_view_module_version": "1.5.0",
            "_view_name": "ProgressView",
            "bar_style": "danger",
            "description": "",
            "description_tooltip": null,
            "layout": "IPY_MODEL_ba529a328bb947668c90725a49522484",
            "max": 75750,
            "min": 0,
            "orientation": "horizontal",
            "style": "IPY_MODEL_c566b971ed00487ba04bd0442648aa60",
            "value": 75749
          }
        },
        "a2cd64bd223a44cc876d7a8d86076437": {
          "model_module": "@jupyter-widgets/controls",
          "model_name": "HTMLModel",
          "model_module_version": "1.5.0",
          "state": {
            "_dom_classes": [],
            "_model_module": "@jupyter-widgets/controls",
            "_model_module_version": "1.5.0",
            "_model_name": "HTMLModel",
            "_view_count": null,
            "_view_module": "@jupyter-widgets/controls",
            "_view_module_version": "1.5.0",
            "_view_name": "HTMLView",
            "description": "",
            "description_tooltip": null,
            "layout": "IPY_MODEL_0226c72a39804a7395c4cb8257c0eab9",
            "placeholder": "​",
            "style": "IPY_MODEL_1b9a53f33a61429d9e0f8d43685f439f",
            "value": " 75749/75750 [00:29&lt;00:00, 2442.20 examples/s]"
          }
        },
        "b22cb2086237410097a261b7062f36b1": {
          "model_module": "@jupyter-widgets/base",
          "model_name": "LayoutModel",
          "model_module_version": "1.2.0",
          "state": {
            "_model_module": "@jupyter-widgets/base",
            "_model_module_version": "1.2.0",
            "_model_name": "LayoutModel",
            "_view_count": null,
            "_view_module": "@jupyter-widgets/base",
            "_view_module_version": "1.2.0",
            "_view_name": "LayoutView",
            "align_content": null,
            "align_items": null,
            "align_self": null,
            "border": null,
            "bottom": null,
            "display": null,
            "flex": null,
            "flex_flow": null,
            "grid_area": null,
            "grid_auto_columns": null,
            "grid_auto_flow": null,
            "grid_auto_rows": null,
            "grid_column": null,
            "grid_gap": null,
            "grid_row": null,
            "grid_template_areas": null,
            "grid_template_columns": null,
            "grid_template_rows": null,
            "height": null,
            "justify_content": null,
            "justify_items": null,
            "left": null,
            "margin": null,
            "max_height": null,
            "max_width": null,
            "min_height": null,
            "min_width": null,
            "object_fit": null,
            "object_position": null,
            "order": null,
            "overflow": null,
            "overflow_x": null,
            "overflow_y": null,
            "padding": null,
            "right": null,
            "top": null,
            "visibility": null,
            "width": null
          }
        },
        "07f2ea213fad41ecbd669e1dd916d22b": {
          "model_module": "@jupyter-widgets/base",
          "model_name": "LayoutModel",
          "model_module_version": "1.2.0",
          "state": {
            "_model_module": "@jupyter-widgets/base",
            "_model_module_version": "1.2.0",
            "_model_name": "LayoutModel",
            "_view_count": null,
            "_view_module": "@jupyter-widgets/base",
            "_view_module_version": "1.2.0",
            "_view_name": "LayoutView",
            "align_content": null,
            "align_items": null,
            "align_self": null,
            "border": null,
            "bottom": null,
            "display": null,
            "flex": null,
            "flex_flow": null,
            "grid_area": null,
            "grid_auto_columns": null,
            "grid_auto_flow": null,
            "grid_auto_rows": null,
            "grid_column": null,
            "grid_gap": null,
            "grid_row": null,
            "grid_template_areas": null,
            "grid_template_columns": null,
            "grid_template_rows": null,
            "height": null,
            "justify_content": null,
            "justify_items": null,
            "left": null,
            "margin": null,
            "max_height": null,
            "max_width": null,
            "min_height": null,
            "min_width": null,
            "object_fit": null,
            "object_position": null,
            "order": null,
            "overflow": null,
            "overflow_x": null,
            "overflow_y": null,
            "padding": null,
            "right": null,
            "top": null,
            "visibility": null,
            "width": null
          }
        },
        "898f03a69253402c88369169fd6d5236": {
          "model_module": "@jupyter-widgets/controls",
          "model_name": "DescriptionStyleModel",
          "model_module_version": "1.5.0",
          "state": {
            "_model_module": "@jupyter-widgets/controls",
            "_model_module_version": "1.5.0",
            "_model_name": "DescriptionStyleModel",
            "_view_count": null,
            "_view_module": "@jupyter-widgets/base",
            "_view_module_version": "1.2.0",
            "_view_name": "StyleView",
            "description_width": ""
          }
        },
        "ba529a328bb947668c90725a49522484": {
          "model_module": "@jupyter-widgets/base",
          "model_name": "LayoutModel",
          "model_module_version": "1.2.0",
          "state": {
            "_model_module": "@jupyter-widgets/base",
            "_model_module_version": "1.2.0",
            "_model_name": "LayoutModel",
            "_view_count": null,
            "_view_module": "@jupyter-widgets/base",
            "_view_module_version": "1.2.0",
            "_view_name": "LayoutView",
            "align_content": null,
            "align_items": null,
            "align_self": null,
            "border": null,
            "bottom": null,
            "display": null,
            "flex": null,
            "flex_flow": null,
            "grid_area": null,
            "grid_auto_columns": null,
            "grid_auto_flow": null,
            "grid_auto_rows": null,
            "grid_column": null,
            "grid_gap": null,
            "grid_row": null,
            "grid_template_areas": null,
            "grid_template_columns": null,
            "grid_template_rows": null,
            "height": null,
            "justify_content": null,
            "justify_items": null,
            "left": null,
            "margin": null,
            "max_height": null,
            "max_width": null,
            "min_height": null,
            "min_width": null,
            "object_fit": null,
            "object_position": null,
            "order": null,
            "overflow": null,
            "overflow_x": null,
            "overflow_y": null,
            "padding": null,
            "right": null,
            "top": null,
            "visibility": null,
            "width": null
          }
        },
        "c566b971ed00487ba04bd0442648aa60": {
          "model_module": "@jupyter-widgets/controls",
          "model_name": "ProgressStyleModel",
          "model_module_version": "1.5.0",
          "state": {
            "_model_module": "@jupyter-widgets/controls",
            "_model_module_version": "1.5.0",
            "_model_name": "ProgressStyleModel",
            "_view_count": null,
            "_view_module": "@jupyter-widgets/base",
            "_view_module_version": "1.2.0",
            "_view_name": "StyleView",
            "bar_color": null,
            "description_width": ""
          }
        },
        "0226c72a39804a7395c4cb8257c0eab9": {
          "model_module": "@jupyter-widgets/base",
          "model_name": "LayoutModel",
          "model_module_version": "1.2.0",
          "state": {
            "_model_module": "@jupyter-widgets/base",
            "_model_module_version": "1.2.0",
            "_model_name": "LayoutModel",
            "_view_count": null,
            "_view_module": "@jupyter-widgets/base",
            "_view_module_version": "1.2.0",
            "_view_name": "LayoutView",
            "align_content": null,
            "align_items": null,
            "align_self": null,
            "border": null,
            "bottom": null,
            "display": null,
            "flex": null,
            "flex_flow": null,
            "grid_area": null,
            "grid_auto_columns": null,
            "grid_auto_flow": null,
            "grid_auto_rows": null,
            "grid_column": null,
            "grid_gap": null,
            "grid_row": null,
            "grid_template_areas": null,
            "grid_template_columns": null,
            "grid_template_rows": null,
            "height": null,
            "justify_content": null,
            "justify_items": null,
            "left": null,
            "margin": null,
            "max_height": null,
            "max_width": null,
            "min_height": null,
            "min_width": null,
            "object_fit": null,
            "object_position": null,
            "order": null,
            "overflow": null,
            "overflow_x": null,
            "overflow_y": null,
            "padding": null,
            "right": null,
            "top": null,
            "visibility": null,
            "width": null
          }
        },
        "1b9a53f33a61429d9e0f8d43685f439f": {
          "model_module": "@jupyter-widgets/controls",
          "model_name": "DescriptionStyleModel",
          "model_module_version": "1.5.0",
          "state": {
            "_model_module": "@jupyter-widgets/controls",
            "_model_module_version": "1.5.0",
            "_model_name": "DescriptionStyleModel",
            "_view_count": null,
            "_view_module": "@jupyter-widgets/base",
            "_view_module_version": "1.2.0",
            "_view_name": "StyleView",
            "description_width": ""
          }
        },
        "f06fa780a5104ff5aab6687c11903847": {
          "model_module": "@jupyter-widgets/controls",
          "model_name": "HBoxModel",
          "model_module_version": "1.5.0",
          "state": {
            "_dom_classes": [],
            "_model_module": "@jupyter-widgets/controls",
            "_model_module_version": "1.5.0",
            "_model_name": "HBoxModel",
            "_view_count": null,
            "_view_module": "@jupyter-widgets/controls",
            "_view_module_version": "1.5.0",
            "_view_name": "HBoxView",
            "box_style": "",
            "children": [
              "IPY_MODEL_73a7885518da4c09a84ca92f09f2474b",
              "IPY_MODEL_060b318d69404328a56bed08278c19e0",
              "IPY_MODEL_ddd9209894c543fc9cd4e40e28fe9a96"
            ],
            "layout": "IPY_MODEL_d34392e11d694780a3e34ada021f3080"
          }
        },
        "73a7885518da4c09a84ca92f09f2474b": {
          "model_module": "@jupyter-widgets/controls",
          "model_name": "HTMLModel",
          "model_module_version": "1.5.0",
          "state": {
            "_dom_classes": [],
            "_model_module": "@jupyter-widgets/controls",
            "_model_module_version": "1.5.0",
            "_model_name": "HTMLModel",
            "_view_count": null,
            "_view_module": "@jupyter-widgets/controls",
            "_view_module_version": "1.5.0",
            "_view_name": "HTMLView",
            "description": "",
            "description_tooltip": null,
            "layout": "IPY_MODEL_f0ebc89f45394b94b73fa8ca82a4a4b4",
            "placeholder": "​",
            "style": "IPY_MODEL_75eeb34730304291971190315330d556",
            "value": ""
          }
        },
        "060b318d69404328a56bed08278c19e0": {
          "model_module": "@jupyter-widgets/controls",
          "model_name": "FloatProgressModel",
          "model_module_version": "1.5.0",
          "state": {
            "_dom_classes": [],
            "_model_module": "@jupyter-widgets/controls",
            "_model_module_version": "1.5.0",
            "_model_name": "FloatProgressModel",
            "_view_count": null,
            "_view_module": "@jupyter-widgets/controls",
            "_view_module_version": "1.5.0",
            "_view_name": "ProgressView",
            "bar_style": "info",
            "description": "",
            "description_tooltip": null,
            "layout": "IPY_MODEL_367afcce44c740b59b377e09c87c569c",
            "max": 1,
            "min": 0,
            "orientation": "horizontal",
            "style": "IPY_MODEL_3b9e581d1fc64abd9d5938fe5c3f4fe9",
            "value": 1
          }
        },
        "ddd9209894c543fc9cd4e40e28fe9a96": {
          "model_module": "@jupyter-widgets/controls",
          "model_name": "HTMLModel",
          "model_module_version": "1.5.0",
          "state": {
            "_dom_classes": [],
            "_model_module": "@jupyter-widgets/controls",
            "_model_module_version": "1.5.0",
            "_model_name": "HTMLModel",
            "_view_count": null,
            "_view_module": "@jupyter-widgets/controls",
            "_view_module_version": "1.5.0",
            "_view_name": "HTMLView",
            "description": "",
            "description_tooltip": null,
            "layout": "IPY_MODEL_0303e5cb7dc0492fa8dfefbaabf9e11f",
            "placeholder": "​",
            "style": "IPY_MODEL_1fd0691b50bf4f0996d6065b315ffea8",
            "value": " 25242/0 [00:58&lt;00:00, 415.03 examples/s]"
          }
        },
        "d34392e11d694780a3e34ada021f3080": {
          "model_module": "@jupyter-widgets/base",
          "model_name": "LayoutModel",
          "model_module_version": "1.2.0",
          "state": {
            "_model_module": "@jupyter-widgets/base",
            "_model_module_version": "1.2.0",
            "_model_name": "LayoutModel",
            "_view_count": null,
            "_view_module": "@jupyter-widgets/base",
            "_view_module_version": "1.2.0",
            "_view_name": "LayoutView",
            "align_content": null,
            "align_items": null,
            "align_self": null,
            "border": null,
            "bottom": null,
            "display": null,
            "flex": null,
            "flex_flow": null,
            "grid_area": null,
            "grid_auto_columns": null,
            "grid_auto_flow": null,
            "grid_auto_rows": null,
            "grid_column": null,
            "grid_gap": null,
            "grid_row": null,
            "grid_template_areas": null,
            "grid_template_columns": null,
            "grid_template_rows": null,
            "height": null,
            "justify_content": null,
            "justify_items": null,
            "left": null,
            "margin": null,
            "max_height": null,
            "max_width": null,
            "min_height": null,
            "min_width": null,
            "object_fit": null,
            "object_position": null,
            "order": null,
            "overflow": null,
            "overflow_x": null,
            "overflow_y": null,
            "padding": null,
            "right": null,
            "top": null,
            "visibility": null,
            "width": null
          }
        },
        "f0ebc89f45394b94b73fa8ca82a4a4b4": {
          "model_module": "@jupyter-widgets/base",
          "model_name": "LayoutModel",
          "model_module_version": "1.2.0",
          "state": {
            "_model_module": "@jupyter-widgets/base",
            "_model_module_version": "1.2.0",
            "_model_name": "LayoutModel",
            "_view_count": null,
            "_view_module": "@jupyter-widgets/base",
            "_view_module_version": "1.2.0",
            "_view_name": "LayoutView",
            "align_content": null,
            "align_items": null,
            "align_self": null,
            "border": null,
            "bottom": null,
            "display": null,
            "flex": null,
            "flex_flow": null,
            "grid_area": null,
            "grid_auto_columns": null,
            "grid_auto_flow": null,
            "grid_auto_rows": null,
            "grid_column": null,
            "grid_gap": null,
            "grid_row": null,
            "grid_template_areas": null,
            "grid_template_columns": null,
            "grid_template_rows": null,
            "height": null,
            "justify_content": null,
            "justify_items": null,
            "left": null,
            "margin": null,
            "max_height": null,
            "max_width": null,
            "min_height": null,
            "min_width": null,
            "object_fit": null,
            "object_position": null,
            "order": null,
            "overflow": null,
            "overflow_x": null,
            "overflow_y": null,
            "padding": null,
            "right": null,
            "top": null,
            "visibility": null,
            "width": null
          }
        },
        "75eeb34730304291971190315330d556": {
          "model_module": "@jupyter-widgets/controls",
          "model_name": "DescriptionStyleModel",
          "model_module_version": "1.5.0",
          "state": {
            "_model_module": "@jupyter-widgets/controls",
            "_model_module_version": "1.5.0",
            "_model_name": "DescriptionStyleModel",
            "_view_count": null,
            "_view_module": "@jupyter-widgets/base",
            "_view_module_version": "1.2.0",
            "_view_name": "StyleView",
            "description_width": ""
          }
        },
        "367afcce44c740b59b377e09c87c569c": {
          "model_module": "@jupyter-widgets/base",
          "model_name": "LayoutModel",
          "model_module_version": "1.2.0",
          "state": {
            "_model_module": "@jupyter-widgets/base",
            "_model_module_version": "1.2.0",
            "_model_name": "LayoutModel",
            "_view_count": null,
            "_view_module": "@jupyter-widgets/base",
            "_view_module_version": "1.2.0",
            "_view_name": "LayoutView",
            "align_content": null,
            "align_items": null,
            "align_self": null,
            "border": null,
            "bottom": null,
            "display": null,
            "flex": null,
            "flex_flow": null,
            "grid_area": null,
            "grid_auto_columns": null,
            "grid_auto_flow": null,
            "grid_auto_rows": null,
            "grid_column": null,
            "grid_gap": null,
            "grid_row": null,
            "grid_template_areas": null,
            "grid_template_columns": null,
            "grid_template_rows": null,
            "height": null,
            "justify_content": null,
            "justify_items": null,
            "left": null,
            "margin": null,
            "max_height": null,
            "max_width": null,
            "min_height": null,
            "min_width": null,
            "object_fit": null,
            "object_position": null,
            "order": null,
            "overflow": null,
            "overflow_x": null,
            "overflow_y": null,
            "padding": null,
            "right": null,
            "top": null,
            "visibility": null,
            "width": "20px"
          }
        },
        "3b9e581d1fc64abd9d5938fe5c3f4fe9": {
          "model_module": "@jupyter-widgets/controls",
          "model_name": "ProgressStyleModel",
          "model_module_version": "1.5.0",
          "state": {
            "_model_module": "@jupyter-widgets/controls",
            "_model_module_version": "1.5.0",
            "_model_name": "ProgressStyleModel",
            "_view_count": null,
            "_view_module": "@jupyter-widgets/base",
            "_view_module_version": "1.2.0",
            "_view_name": "StyleView",
            "bar_color": null,
            "description_width": ""
          }
        },
        "0303e5cb7dc0492fa8dfefbaabf9e11f": {
          "model_module": "@jupyter-widgets/base",
          "model_name": "LayoutModel",
          "model_module_version": "1.2.0",
          "state": {
            "_model_module": "@jupyter-widgets/base",
            "_model_module_version": "1.2.0",
            "_model_name": "LayoutModel",
            "_view_count": null,
            "_view_module": "@jupyter-widgets/base",
            "_view_module_version": "1.2.0",
            "_view_name": "LayoutView",
            "align_content": null,
            "align_items": null,
            "align_self": null,
            "border": null,
            "bottom": null,
            "display": null,
            "flex": null,
            "flex_flow": null,
            "grid_area": null,
            "grid_auto_columns": null,
            "grid_auto_flow": null,
            "grid_auto_rows": null,
            "grid_column": null,
            "grid_gap": null,
            "grid_row": null,
            "grid_template_areas": null,
            "grid_template_columns": null,
            "grid_template_rows": null,
            "height": null,
            "justify_content": null,
            "justify_items": null,
            "left": null,
            "margin": null,
            "max_height": null,
            "max_width": null,
            "min_height": null,
            "min_width": null,
            "object_fit": null,
            "object_position": null,
            "order": null,
            "overflow": null,
            "overflow_x": null,
            "overflow_y": null,
            "padding": null,
            "right": null,
            "top": null,
            "visibility": null,
            "width": null
          }
        },
        "1fd0691b50bf4f0996d6065b315ffea8": {
          "model_module": "@jupyter-widgets/controls",
          "model_name": "DescriptionStyleModel",
          "model_module_version": "1.5.0",
          "state": {
            "_model_module": "@jupyter-widgets/controls",
            "_model_module_version": "1.5.0",
            "_model_name": "DescriptionStyleModel",
            "_view_count": null,
            "_view_module": "@jupyter-widgets/base",
            "_view_module_version": "1.2.0",
            "_view_name": "StyleView",
            "description_width": ""
          }
        },
        "1de0ac8243ae461193a501ad2f83bd13": {
          "model_module": "@jupyter-widgets/controls",
          "model_name": "HBoxModel",
          "model_module_version": "1.5.0",
          "state": {
            "_dom_classes": [],
            "_model_module": "@jupyter-widgets/controls",
            "_model_module_version": "1.5.0",
            "_model_name": "HBoxModel",
            "_view_count": null,
            "_view_module": "@jupyter-widgets/controls",
            "_view_module_version": "1.5.0",
            "_view_name": "HBoxView",
            "box_style": "",
            "children": [
              "IPY_MODEL_2ffd4607c73b4107858b7bef5d7d6ace",
              "IPY_MODEL_8300c416a9ea405db33e7db1133fa10b",
              "IPY_MODEL_2a2f408804204e1ebcd82e8bd32b8528"
            ],
            "layout": "IPY_MODEL_03e8c61953e94d5a9815f82a68aa1519"
          }
        },
        "2ffd4607c73b4107858b7bef5d7d6ace": {
          "model_module": "@jupyter-widgets/controls",
          "model_name": "HTMLModel",
          "model_module_version": "1.5.0",
          "state": {
            "_dom_classes": [],
            "_model_module": "@jupyter-widgets/controls",
            "_model_module_version": "1.5.0",
            "_model_name": "HTMLModel",
            "_view_count": null,
            "_view_module": "@jupyter-widgets/controls",
            "_view_module_version": "1.5.0",
            "_view_name": "HTMLView",
            "description": "",
            "description_tooltip": null,
            "layout": "IPY_MODEL_a0faec0d8aba47b0b2256f6b77e3cff0",
            "placeholder": "​",
            "style": "IPY_MODEL_d5aa1cf1b28343c8bf1f888533cc4c4c",
            "value": "100%"
          }
        },
        "8300c416a9ea405db33e7db1133fa10b": {
          "model_module": "@jupyter-widgets/controls",
          "model_name": "FloatProgressModel",
          "model_module_version": "1.5.0",
          "state": {
            "_dom_classes": [],
            "_model_module": "@jupyter-widgets/controls",
            "_model_module_version": "1.5.0",
            "_model_name": "FloatProgressModel",
            "_view_count": null,
            "_view_module": "@jupyter-widgets/controls",
            "_view_module_version": "1.5.0",
            "_view_name": "ProgressView",
            "bar_style": "danger",
            "description": "",
            "description_tooltip": null,
            "layout": "IPY_MODEL_095b4845817440f592b34071e28823b2",
            "max": 25250,
            "min": 0,
            "orientation": "horizontal",
            "style": "IPY_MODEL_8f10431d372c43c8aac8d1da3004a5e6",
            "value": 25249
          }
        },
        "2a2f408804204e1ebcd82e8bd32b8528": {
          "model_module": "@jupyter-widgets/controls",
          "model_name": "HTMLModel",
          "model_module_version": "1.5.0",
          "state": {
            "_dom_classes": [],
            "_model_module": "@jupyter-widgets/controls",
            "_model_module_version": "1.5.0",
            "_model_name": "HTMLModel",
            "_view_count": null,
            "_view_module": "@jupyter-widgets/controls",
            "_view_module_version": "1.5.0",
            "_view_name": "HTMLView",
            "description": "",
            "description_tooltip": null,
            "layout": "IPY_MODEL_bd196342b8be413bab890f9a3fc27555",
            "placeholder": "​",
            "style": "IPY_MODEL_e23b31da0eae41a09161c45cf2b3be88",
            "value": " 25249/25250 [00:05&lt;00:00, 2500.97 examples/s]"
          }
        },
        "03e8c61953e94d5a9815f82a68aa1519": {
          "model_module": "@jupyter-widgets/base",
          "model_name": "LayoutModel",
          "model_module_version": "1.2.0",
          "state": {
            "_model_module": "@jupyter-widgets/base",
            "_model_module_version": "1.2.0",
            "_model_name": "LayoutModel",
            "_view_count": null,
            "_view_module": "@jupyter-widgets/base",
            "_view_module_version": "1.2.0",
            "_view_name": "LayoutView",
            "align_content": null,
            "align_items": null,
            "align_self": null,
            "border": null,
            "bottom": null,
            "display": null,
            "flex": null,
            "flex_flow": null,
            "grid_area": null,
            "grid_auto_columns": null,
            "grid_auto_flow": null,
            "grid_auto_rows": null,
            "grid_column": null,
            "grid_gap": null,
            "grid_row": null,
            "grid_template_areas": null,
            "grid_template_columns": null,
            "grid_template_rows": null,
            "height": null,
            "justify_content": null,
            "justify_items": null,
            "left": null,
            "margin": null,
            "max_height": null,
            "max_width": null,
            "min_height": null,
            "min_width": null,
            "object_fit": null,
            "object_position": null,
            "order": null,
            "overflow": null,
            "overflow_x": null,
            "overflow_y": null,
            "padding": null,
            "right": null,
            "top": null,
            "visibility": null,
            "width": null
          }
        },
        "a0faec0d8aba47b0b2256f6b77e3cff0": {
          "model_module": "@jupyter-widgets/base",
          "model_name": "LayoutModel",
          "model_module_version": "1.2.0",
          "state": {
            "_model_module": "@jupyter-widgets/base",
            "_model_module_version": "1.2.0",
            "_model_name": "LayoutModel",
            "_view_count": null,
            "_view_module": "@jupyter-widgets/base",
            "_view_module_version": "1.2.0",
            "_view_name": "LayoutView",
            "align_content": null,
            "align_items": null,
            "align_self": null,
            "border": null,
            "bottom": null,
            "display": null,
            "flex": null,
            "flex_flow": null,
            "grid_area": null,
            "grid_auto_columns": null,
            "grid_auto_flow": null,
            "grid_auto_rows": null,
            "grid_column": null,
            "grid_gap": null,
            "grid_row": null,
            "grid_template_areas": null,
            "grid_template_columns": null,
            "grid_template_rows": null,
            "height": null,
            "justify_content": null,
            "justify_items": null,
            "left": null,
            "margin": null,
            "max_height": null,
            "max_width": null,
            "min_height": null,
            "min_width": null,
            "object_fit": null,
            "object_position": null,
            "order": null,
            "overflow": null,
            "overflow_x": null,
            "overflow_y": null,
            "padding": null,
            "right": null,
            "top": null,
            "visibility": null,
            "width": null
          }
        },
        "d5aa1cf1b28343c8bf1f888533cc4c4c": {
          "model_module": "@jupyter-widgets/controls",
          "model_name": "DescriptionStyleModel",
          "model_module_version": "1.5.0",
          "state": {
            "_model_module": "@jupyter-widgets/controls",
            "_model_module_version": "1.5.0",
            "_model_name": "DescriptionStyleModel",
            "_view_count": null,
            "_view_module": "@jupyter-widgets/base",
            "_view_module_version": "1.2.0",
            "_view_name": "StyleView",
            "description_width": ""
          }
        },
        "095b4845817440f592b34071e28823b2": {
          "model_module": "@jupyter-widgets/base",
          "model_name": "LayoutModel",
          "model_module_version": "1.2.0",
          "state": {
            "_model_module": "@jupyter-widgets/base",
            "_model_module_version": "1.2.0",
            "_model_name": "LayoutModel",
            "_view_count": null,
            "_view_module": "@jupyter-widgets/base",
            "_view_module_version": "1.2.0",
            "_view_name": "LayoutView",
            "align_content": null,
            "align_items": null,
            "align_self": null,
            "border": null,
            "bottom": null,
            "display": null,
            "flex": null,
            "flex_flow": null,
            "grid_area": null,
            "grid_auto_columns": null,
            "grid_auto_flow": null,
            "grid_auto_rows": null,
            "grid_column": null,
            "grid_gap": null,
            "grid_row": null,
            "grid_template_areas": null,
            "grid_template_columns": null,
            "grid_template_rows": null,
            "height": null,
            "justify_content": null,
            "justify_items": null,
            "left": null,
            "margin": null,
            "max_height": null,
            "max_width": null,
            "min_height": null,
            "min_width": null,
            "object_fit": null,
            "object_position": null,
            "order": null,
            "overflow": null,
            "overflow_x": null,
            "overflow_y": null,
            "padding": null,
            "right": null,
            "top": null,
            "visibility": null,
            "width": null
          }
        },
        "8f10431d372c43c8aac8d1da3004a5e6": {
          "model_module": "@jupyter-widgets/controls",
          "model_name": "ProgressStyleModel",
          "model_module_version": "1.5.0",
          "state": {
            "_model_module": "@jupyter-widgets/controls",
            "_model_module_version": "1.5.0",
            "_model_name": "ProgressStyleModel",
            "_view_count": null,
            "_view_module": "@jupyter-widgets/base",
            "_view_module_version": "1.2.0",
            "_view_name": "StyleView",
            "bar_color": null,
            "description_width": ""
          }
        },
        "bd196342b8be413bab890f9a3fc27555": {
          "model_module": "@jupyter-widgets/base",
          "model_name": "LayoutModel",
          "model_module_version": "1.2.0",
          "state": {
            "_model_module": "@jupyter-widgets/base",
            "_model_module_version": "1.2.0",
            "_model_name": "LayoutModel",
            "_view_count": null,
            "_view_module": "@jupyter-widgets/base",
            "_view_module_version": "1.2.0",
            "_view_name": "LayoutView",
            "align_content": null,
            "align_items": null,
            "align_self": null,
            "border": null,
            "bottom": null,
            "display": null,
            "flex": null,
            "flex_flow": null,
            "grid_area": null,
            "grid_auto_columns": null,
            "grid_auto_flow": null,
            "grid_auto_rows": null,
            "grid_column": null,
            "grid_gap": null,
            "grid_row": null,
            "grid_template_areas": null,
            "grid_template_columns": null,
            "grid_template_rows": null,
            "height": null,
            "justify_content": null,
            "justify_items": null,
            "left": null,
            "margin": null,
            "max_height": null,
            "max_width": null,
            "min_height": null,
            "min_width": null,
            "object_fit": null,
            "object_position": null,
            "order": null,
            "overflow": null,
            "overflow_x": null,
            "overflow_y": null,
            "padding": null,
            "right": null,
            "top": null,
            "visibility": null,
            "width": null
          }
        },
        "e23b31da0eae41a09161c45cf2b3be88": {
          "model_module": "@jupyter-widgets/controls",
          "model_name": "DescriptionStyleModel",
          "model_module_version": "1.5.0",
          "state": {
            "_model_module": "@jupyter-widgets/controls",
            "_model_module_version": "1.5.0",
            "_model_name": "DescriptionStyleModel",
            "_view_count": null,
            "_view_module": "@jupyter-widgets/base",
            "_view_module_version": "1.2.0",
            "_view_name": "StyleView",
            "description_width": ""
          }
        }
      }
    }
  },
  "cells": [
    {
      "cell_type": "code",
      "execution_count": 1,
      "metadata": {
        "colab": {
          "base_uri": "https://localhost:8080/"
        },
        "id": "gWWGQORjs1OO",
        "outputId": "b9c7dfc0-11b3-47fe-a409-5bf3f77d1dd7"
      },
      "outputs": [
        {
          "output_type": "stream",
          "name": "stdout",
          "text": [
            "GPU 0: Tesla T4 (UUID: GPU-d7e00eb1-9a84-84d3-f220-ebebcabca98c)\n"
          ]
        }
      ],
      "source": [
        "!nvidia-smi -L"
      ]
    },
    {
      "cell_type": "code",
      "source": [
        "import tensorflow as tf"
      ],
      "metadata": {
        "id": "T5mp8OCim1K_"
      },
      "execution_count": 2,
      "outputs": []
    },
    {
      "cell_type": "code",
      "source": [
        "import numpy as np"
      ],
      "metadata": {
        "id": "J5bxH1X5pkgX"
      },
      "execution_count": 3,
      "outputs": []
    },
    {
      "cell_type": "markdown",
      "source": [
        "Using Tensorflow Dataset"
      ],
      "metadata": {
        "id": "OkF8nck8kukO"
      }
    },
    {
      "cell_type": "code",
      "source": [
        "import tensorflow_datasets as tfds"
      ],
      "metadata": {
        "id": "IUiFM-6gkt9l"
      },
      "execution_count": 4,
      "outputs": []
    },
    {
      "cell_type": "code",
      "source": [
        "(train_data,test_data),ds_info = tfds.load(name=\"food101\",\n",
        "                                           split=[\"train\",\"validation\"],\n",
        "                                           shuffle_files=True,\n",
        "                                           as_supervised=True,\n",
        "                                           with_info=True)"
      ],
      "metadata": {
        "id": "DDOOl_hek2-1",
        "colab": {
          "base_uri": "https://localhost:8080/",
          "height": 305,
          "referenced_widgets": [
            "ebff2d2ecb904f918ed873356636679e",
            "0e3d3c16b40b4fe788c2d132f9b6ff25",
            "6c18a2bb3be341a385648345748ad67c",
            "ace08ecbed5a49609e4dad473f4dfe3c",
            "d6f800d59bac44708f92e3cf6cb0e79c",
            "7ff584c492eb4bed8f92497a7b330986",
            "283a9e5da8014f3192b119e0e8f7da97",
            "fdecfbea4d864299aaa33702ebb49b62",
            "702df2e4da024875a09ab29c6cf87a63",
            "4a12fb0d8128415889482942b10cda84",
            "33093c8eb4144cc696c0d43979def2a3",
            "45a8c1b7e7ec4526b2fea102818f9b6b",
            "dcbca53a002d4c6a89cbe91bc268f798",
            "d8b8954232ea4c23a36b4162b805e222",
            "f067892ab8da4f0dad984fef02ade041",
            "e83233c24175438cbd82bcb85230feae",
            "259d16ffced64989aced0f375161137e",
            "80137c998a83425f8a24e9db974fa05a",
            "1f5b7fc7324e41928b001e6c89f9db51",
            "b4acd64f3b6b4c63b60b6b3302350464",
            "b284fa5aa1914d8884068c929b708773",
            "533b97516ae34b81b3d628a995405578",
            "1495a80a2055489ea612af1dac2faa3b",
            "72ca1bf5f91c4ed3b59146b11b4744e8",
            "aceffe55a8694359ab441f4c87c584e6",
            "2dd73842f413463594c48b7bc395625b",
            "a4e7453ab0644fc4adcd79b586ecc4c8",
            "e6db8ef965fb45cd96573c9da1c4f66f",
            "253293e80a3546d9a854c3c5e58555fa",
            "0061fe2b333a46b4b919b6760964fc01",
            "2bae8a2be3834a8ead5b4162ec6abc9d",
            "bf11602e41494cb1bf3cfcc5cd299467",
            "89eba8c375ac41ac9244999675f4172e",
            "69f7aec50d5e443fa16ac36a35e5b432",
            "0206ae52c3ac42c18ecc6c4bcc5b07af",
            "7af2a70cba8b4b0a9296cdf136c749ff",
            "ff2b0f93d7324cea87a86e4aa2f7edac",
            "e59d27a180b84dc9ae33d6c79d7b628e",
            "8c90e7b05b3a48bd9672bbabca71f5df",
            "c6447a04148243fba31679cd1fe62f7d",
            "1ef5a2afd64046aea865d220d331de34",
            "add92de715d84083bbb0fea9f6971e96",
            "504e2494819346e39c235ffc767c98d8",
            "2228e1cfc6614dabbc710a470beade4f",
            "e0fa567870e54b02bfc96967bc80f868",
            "6adab0cb1840492b8ddc27083a6fc572",
            "94b628f2c2964531a19c37ad8e4aa697",
            "a2cd64bd223a44cc876d7a8d86076437",
            "b22cb2086237410097a261b7062f36b1",
            "07f2ea213fad41ecbd669e1dd916d22b",
            "898f03a69253402c88369169fd6d5236",
            "ba529a328bb947668c90725a49522484",
            "c566b971ed00487ba04bd0442648aa60",
            "0226c72a39804a7395c4cb8257c0eab9",
            "1b9a53f33a61429d9e0f8d43685f439f",
            "f06fa780a5104ff5aab6687c11903847",
            "73a7885518da4c09a84ca92f09f2474b",
            "060b318d69404328a56bed08278c19e0",
            "ddd9209894c543fc9cd4e40e28fe9a96",
            "d34392e11d694780a3e34ada021f3080",
            "f0ebc89f45394b94b73fa8ca82a4a4b4",
            "75eeb34730304291971190315330d556",
            "367afcce44c740b59b377e09c87c569c",
            "3b9e581d1fc64abd9d5938fe5c3f4fe9",
            "0303e5cb7dc0492fa8dfefbaabf9e11f",
            "1fd0691b50bf4f0996d6065b315ffea8",
            "1de0ac8243ae461193a501ad2f83bd13",
            "2ffd4607c73b4107858b7bef5d7d6ace",
            "8300c416a9ea405db33e7db1133fa10b",
            "2a2f408804204e1ebcd82e8bd32b8528",
            "03e8c61953e94d5a9815f82a68aa1519",
            "a0faec0d8aba47b0b2256f6b77e3cff0",
            "d5aa1cf1b28343c8bf1f888533cc4c4c",
            "095b4845817440f592b34071e28823b2",
            "8f10431d372c43c8aac8d1da3004a5e6",
            "bd196342b8be413bab890f9a3fc27555",
            "e23b31da0eae41a09161c45cf2b3be88"
          ]
        },
        "outputId": "b994c043-cd15-4326-b442-1c214b501051"
      },
      "execution_count": 5,
      "outputs": [
        {
          "output_type": "stream",
          "name": "stdout",
          "text": [
            "\u001b[1mDownloading and preparing dataset food101/2.0.0 (download: 4.65 GiB, generated: Unknown size, total: 4.65 GiB) to /root/tensorflow_datasets/food101/2.0.0...\u001b[0m\n"
          ]
        },
        {
          "output_type": "display_data",
          "data": {
            "text/plain": [
              "Dl Completed...: 0 url [00:00, ? url/s]"
            ],
            "application/vnd.jupyter.widget-view+json": {
              "version_major": 2,
              "version_minor": 0,
              "model_id": "ebff2d2ecb904f918ed873356636679e"
            }
          },
          "metadata": {}
        },
        {
          "output_type": "display_data",
          "data": {
            "text/plain": [
              "Dl Size...: 0 MiB [00:00, ? MiB/s]"
            ],
            "application/vnd.jupyter.widget-view+json": {
              "version_major": 2,
              "version_minor": 0,
              "model_id": "45a8c1b7e7ec4526b2fea102818f9b6b"
            }
          },
          "metadata": {}
        },
        {
          "output_type": "display_data",
          "data": {
            "text/plain": [
              "Extraction completed...: 0 file [00:00, ? file/s]"
            ],
            "application/vnd.jupyter.widget-view+json": {
              "version_major": 2,
              "version_minor": 0,
              "model_id": "1495a80a2055489ea612af1dac2faa3b"
            }
          },
          "metadata": {}
        },
        {
          "output_type": "stream",
          "name": "stdout",
          "text": [
            "\n",
            "\n",
            "\n"
          ]
        },
        {
          "output_type": "display_data",
          "data": {
            "text/plain": [
              "0 examples [00:00, ? examples/s]"
            ],
            "application/vnd.jupyter.widget-view+json": {
              "version_major": 2,
              "version_minor": 0,
              "model_id": "69f7aec50d5e443fa16ac36a35e5b432"
            }
          },
          "metadata": {}
        },
        {
          "output_type": "stream",
          "name": "stdout",
          "text": [
            "Shuffling and writing examples to /root/tensorflow_datasets/food101/2.0.0.incomplete40X9TI/food101-train.tfrecord\n"
          ]
        },
        {
          "output_type": "display_data",
          "data": {
            "text/plain": [
              "  0%|          | 0/75750 [00:00<?, ? examples/s]"
            ],
            "application/vnd.jupyter.widget-view+json": {
              "version_major": 2,
              "version_minor": 0,
              "model_id": "e0fa567870e54b02bfc96967bc80f868"
            }
          },
          "metadata": {}
        },
        {
          "output_type": "display_data",
          "data": {
            "text/plain": [
              "0 examples [00:00, ? examples/s]"
            ],
            "application/vnd.jupyter.widget-view+json": {
              "version_major": 2,
              "version_minor": 0,
              "model_id": "f06fa780a5104ff5aab6687c11903847"
            }
          },
          "metadata": {}
        },
        {
          "output_type": "stream",
          "name": "stdout",
          "text": [
            "Shuffling and writing examples to /root/tensorflow_datasets/food101/2.0.0.incomplete40X9TI/food101-validation.tfrecord\n"
          ]
        },
        {
          "output_type": "display_data",
          "data": {
            "text/plain": [
              "  0%|          | 0/25250 [00:00<?, ? examples/s]"
            ],
            "application/vnd.jupyter.widget-view+json": {
              "version_major": 2,
              "version_minor": 0,
              "model_id": "1de0ac8243ae461193a501ad2f83bd13"
            }
          },
          "metadata": {}
        },
        {
          "output_type": "stream",
          "name": "stdout",
          "text": [
            "\u001b[1mDataset food101 downloaded and prepared to /root/tensorflow_datasets/food101/2.0.0. Subsequent calls will reuse this data.\u001b[0m\n"
          ]
        }
      ]
    },
    {
      "cell_type": "code",
      "source": [
        "ds_info.features"
      ],
      "metadata": {
        "colab": {
          "base_uri": "https://localhost:8080/"
        },
        "id": "qBBDuoRnlWP_",
        "outputId": "63f1f69d-2b62-418e-fd1a-c58114709609"
      },
      "execution_count": 6,
      "outputs": [
        {
          "output_type": "execute_result",
          "data": {
            "text/plain": [
              "FeaturesDict({\n",
              "    'image': Image(shape=(None, None, 3), dtype=tf.uint8),\n",
              "    'label': ClassLabel(shape=(), dtype=tf.int64, num_classes=101),\n",
              "})"
            ]
          },
          "metadata": {},
          "execution_count": 6
        }
      ]
    },
    {
      "cell_type": "code",
      "source": [
        "class_names = ds_info.features[\"label\"].names\n"
      ],
      "metadata": {
        "id": "ZLmXv1oqldME"
      },
      "execution_count": 7,
      "outputs": []
    },
    {
      "cell_type": "markdown",
      "source": [
        "Visualize"
      ],
      "metadata": {
        "id": "OTiSmc41mI16"
      }
    },
    {
      "cell_type": "code",
      "source": [
        "sample_img = train_data.take(1)"
      ],
      "metadata": {
        "id": "FvC_YPTOmKSc"
      },
      "execution_count": 8,
      "outputs": []
    },
    {
      "cell_type": "code",
      "source": [
        "import matplotlib.pyplot as plt"
      ],
      "metadata": {
        "id": "waYM57ynpKLb"
      },
      "execution_count": 9,
      "outputs": []
    },
    {
      "cell_type": "code",
      "source": [
        "def show_pic(sample_file):\n",
        "  for img,lbl in sample_file:\n",
        "    plt.imshow(img)\n",
        "    # plt.axis(False)\n",
        "    plt.title(print(class_names[lbl.numpy()]))"
      ],
      "metadata": {
        "id": "XV_J1LXCo6RQ"
      },
      "execution_count": 10,
      "outputs": []
    },
    {
      "cell_type": "code",
      "source": [
        "show_pic(sample_img)"
      ],
      "metadata": {
        "colab": {
          "base_uri": "https://localhost:8080/",
          "height": 287
        },
        "id": "gOfV-6A5oRQ1",
        "outputId": "f31e81e7-44c4-45bc-ac8f-57c123b8c973"
      },
      "execution_count": 11,
      "outputs": [
        {
          "output_type": "stream",
          "name": "stdout",
          "text": [
            "cheesecake\n"
          ]
        },
        {
          "output_type": "display_data",
          "data": {
            "text/plain": [
              "<Figure size 432x288 with 1 Axes>"
            ],
            "image/png": "[encoded data removed]"
          },
          "metadata": {
            "needs_background": "light"
          }
        }
      ]
    },
    {
      "cell_type": "markdown",
      "source": [
        "Preprocsessing"
      ],
      "metadata": {
        "id": "MuQ3q3NomKtg"
      }
    },
    {
      "cell_type": "code",
      "source": [
        "def preprocess_img(image,label,img_shape=224,normalize=False):\n",
        "  image = tf.image.resize(image, [img_shape, img_shape])\n",
        "  image = tf.cast(image,tf.float32)\n",
        "  if(normalize==True):\n",
        "    image = image/255\n",
        "  \n",
        "  return image,label"
      ],
      "metadata": {
        "id": "iC7-xhq-mMq9"
      },
      "execution_count": 12,
      "outputs": []
    },
    {
      "cell_type": "code",
      "source": [
        "for img,lbl in sample_img:\n",
        "  print(img.numpy())\n",
        "  img2,lbl2 = preprocess_img(img,lbl)\n",
        "  print(img2.numpy())"
      ],
      "metadata": {
        "colab": {
          "base_uri": "https://localhost:8080/"
        },
        "id": "WJBxaQ2bm9Nj",
        "outputId": "ad32dfdb-9a2e-477b-d20d-dc53264af9c9"
      },
      "execution_count": 13,
      "outputs": [
        {
          "output_type": "stream",
          "name": "stdout",
          "text": [
            "[[[239 217 157]\n",
            "  [244 222 162]\n",
            "  [247 227 168]\n",
            "  ...\n",
            "  [119 104  73]\n",
            "  [111  95  70]\n",
            "  [105  89  66]]\n",
            "\n",
            " [[233 212 149]\n",
            "  [239 218 155]\n",
            "  [243 223 162]\n",
            "  ...\n",
            "  [117 102  71]\n",
            "  [108  92  67]\n",
            "  [101  85  62]]\n",
            "\n",
            " [[227 206 139]\n",
            "  [234 213 146]\n",
            "  [238 219 153]\n",
            "  ...\n",
            "  [117 100  70]\n",
            "  [108  91  65]\n",
            "  [101  83  59]]\n",
            "\n",
            " ...\n",
            "\n",
            " [[ 35   7  19]\n",
            "  [ 35   7  19]\n",
            "  [ 36   8  20]\n",
            "  ...\n",
            "  [198 181 127]\n",
            "  [196 179 125]\n",
            "  [193 176 122]]\n",
            "\n",
            " [[ 34   6  18]\n",
            "  [ 34   6  18]\n",
            "  [ 35   7  19]\n",
            "  ...\n",
            "  [200 183 129]\n",
            "  [201 184 130]\n",
            "  [198 181 127]]\n",
            "\n",
            " [[ 33   5  17]\n",
            "  [ 34   6  18]\n",
            "  [ 35   7  19]\n",
            "  ...\n",
            "  [203 186 132]\n",
            "  [207 190 136]\n",
            "  [206 189 135]]]\n",
            "[[[238.7704    217.41327   155.4847   ]\n",
            "  [242.83673   222.83673   162.55101  ]\n",
            "  [240.85713   220.20918   164.2143   ]\n",
            "  ...\n",
            "  [131.28564   118.28565    75.7806   ]\n",
            "  [123.88257   109.81113    75.09689  ]\n",
            "  [106.698746   90.698746   66.4131   ]]\n",
            "\n",
            " [[232.16325   212.09183   141.37755  ]\n",
            "  [238.86224   219.86224   151.07654  ]\n",
            "  [239.94388   221.08673   155.87245  ]\n",
            "  ...\n",
            "  [127.49998   112.49998    71.07145  ]\n",
            "  [122.63767   106.56623    72.852    ]\n",
            "  [105.83142    88.47424    63.1886   ]]\n",
            "\n",
            " [[235.86224   217.07652   137.43367  ]\n",
            "  [240.7143    223.7143    145.68367  ]\n",
            "  [247.04591   229.26021   156.02551  ]\n",
            "  ...\n",
            "  [126.68873   111.68873    71.1173   ]\n",
            "  [120.80094   104.7295     71.01527  ]\n",
            "  [105.57633    88.29569    62.581474 ]]\n",
            "\n",
            " ...\n",
            "\n",
            " [[ 34.785736    6.785736   18.785736 ]\n",
            "  [ 33.785736    5.785736   17.785736 ]\n",
            "  [ 35.260223    6.83165    18.83165  ]\n",
            "  ...\n",
            "  [195.38261   178.38261   126.045906 ]\n",
            "  [193.96939   176.96939   124.96938  ]\n",
            "  [195.43889   178.43889   126.43889  ]]\n",
            "\n",
            " [[ 35.          7.         19.       ]\n",
            "  [ 35.933678    7.933675   19.933674 ]\n",
            "  [ 36.428574    8.         20.       ]\n",
            "  ...\n",
            "  [194.71436   177.71436   123.28583  ]\n",
            "  [197.0051    180.0051    126.005104 ]\n",
            "  [195.59178   178.59178   124.59179  ]]\n",
            "\n",
            " [[ 33.872437    5.8724365  17.872437 ]\n",
            "  [ 35.928574    7.9285717  19.928572 ]\n",
            "  [ 35.785713    7.785714   19.785713 ]\n",
            "  ...\n",
            "  [197.86226   180.86226   124.86227  ]\n",
            "  [197.62254   180.62254   126.622536 ]\n",
            "  [202.32669   185.32669   131.32669  ]]]\n"
          ]
        }
      ]
    },
    {
      "cell_type": "code",
      "source": [
        "train_data2 = train_data.map(map_func=preprocess_img, num_parallel_calls=tf.data.AUTOTUNE)\n",
        "train_data2 = train_data2.shuffle(buffer_size=1000).batch(batch_size=32).prefetch(buffer_size=tf.data.AUTOTUNE)\n",
        "test_data2 = test_data.map(preprocess_img, num_parallel_calls=tf.data.AUTOTUNE)\n",
        "test_data2 = test_data2.batch(32).prefetch(tf.data.AUTOTUNE)"
      ],
      "metadata": {
        "id": "fpEcGGrdqwZ0"
      },
      "execution_count": 14,
      "outputs": []
    },
    {
      "cell_type": "code",
      "source": [
        "train_data2,test_data2"
      ],
      "metadata": {
        "colab": {
          "base_uri": "https://localhost:8080/"
        },
        "id": "UKOcH1olrTJd",
        "outputId": "59bf44d0-0277-4dbf-b35f-1273f0b47580"
      },
      "execution_count": 15,
      "outputs": [
        {
          "output_type": "execute_result",
          "data": {
            "text/plain": [
              "(<PrefetchDataset element_spec=(TensorSpec(shape=(None, 224, 224, 3), dtype=tf.float32, name=None), TensorSpec(shape=(None,), dtype=tf.int64, name=None))>,\n",
              " <PrefetchDataset element_spec=(TensorSpec(shape=(None, 224, 224, 3), dtype=tf.float32, name=None), TensorSpec(shape=(None,), dtype=tf.int64, name=None))>)"
            ]
          },
          "metadata": {},
          "execution_count": 15
        }
      ]
    },
    {
      "cell_type": "markdown",
      "source": [
        "Callbacks"
      ],
      "metadata": {
        "id": "rnh9oyeGtEci"
      }
    },
    {
      "cell_type": "code",
      "source": [
        "import os\n",
        "def create_model_checkpoint(model_name, save_path=\"model_checkpoints\"):\n",
        "  return tf.keras.callbacks.ModelCheckpoint(filepath=os.path.join(save_path, model_name), \n",
        "                                            verbose=0,\n",
        "                                            save_best_only=True) "
      ],
      "metadata": {
        "id": "37Q1ifLItGxu"
      },
      "execution_count": 16,
      "outputs": []
    },
    {
      "cell_type": "code",
      "source": [
        "import datetime\n",
        "def create_tensorboard_callback(model_name, save_path=\"on_tensorboard\"):\n",
        "  log_dir = save_path + \"/\" + model_name + \"/\" + datetime.datetime.now().strftime(\"%Y%m%d-%H%M%S\")\n",
        "  tensorboard_callback = tf.keras.callbacks.TensorBoard(\n",
        "      log_dir=log_dir\n",
        "  )\n",
        "  return tensorboard_callback"
      ],
      "metadata": {
        "id": "tFt6co95tQxV"
      },
      "execution_count": 17,
      "outputs": []
    },
    {
      "cell_type": "markdown",
      "source": [
        "Mixed Precision Training"
      ],
      "metadata": {
        "id": "RAv0hMequIM3"
      }
    },
    {
      "cell_type": "code",
      "source": [
        "from tensorflow.keras import mixed_precision\n",
        "mixed_precision.set_global_policy(policy=\"mixed_float16\")"
      ],
      "metadata": {
        "colab": {
          "base_uri": "https://localhost:8080/"
        },
        "id": "tKgNFOLZuH5D",
        "outputId": "5c3f204b-56d7-4e8a-82dd-3556dfa4ffcb"
      },
      "execution_count": 18,
      "outputs": [
        {
          "output_type": "stream",
          "name": "stdout",
          "text": [
            "INFO:tensorflow:Mixed precision compatibility check (mixed_float16): OK\n",
            "Your GPU will likely run quickly with dtype policy mixed_float16 as it has compute capability of at least 7.0. Your GPU: Tesla T4, compute capability 7.5\n"
          ]
        },
        {
          "output_type": "stream",
          "name": "stderr",
          "text": [
            "INFO:tensorflow:Mixed precision compatibility check (mixed_float16): OK\n",
            "Your GPU will likely run quickly with dtype policy mixed_float16 as it has compute capability of at least 7.0. Your GPU: Tesla T4, compute capability 7.5\n"
          ]
        }
      ]
    },
    {
      "cell_type": "code",
      "source": [
        "mixed_precision.global_policy()"
      ],
      "metadata": {
        "colab": {
          "base_uri": "https://localhost:8080/"
        },
        "id": "ygPyf0KZuSwF",
        "outputId": "30cd33b6-1c3d-449b-db36-badd3e7be038"
      },
      "execution_count": 19,
      "outputs": [
        {
          "output_type": "execute_result",
          "data": {
            "text/plain": [
              "<Policy \"mixed_float16\">"
            ]
          },
          "metadata": {},
          "execution_count": 19
        }
      ]
    },
    {
      "cell_type": "code",
      "source": [
        "from tensorflow.keras import layers\n",
        "\n",
        "# base model\n",
        "input_shape = (224, 224, 3)\n",
        "base_model = tf.keras.applications.EfficientNetB0(include_top=False)\n",
        "base_model.trainable = False\n",
        "\n",
        "\n",
        "inputs = layers.Input(shape=input_shape, name=\"input_layer\")\n",
        "x = base_model(inputs, training=False) \n",
        "x = layers.GlobalAveragePooling2D(name=\"pooling_layer\")(x)\n",
        "# x = layers.Dense(128,activation=\"relu\")(x) \n",
        "x = layers.Dense(len(class_names))(x) \n",
        "# Separate activation of output layer so we can output float32 activations as required for mixed_precision training\n",
        "outputs = layers.Activation(\"softmax\", dtype=tf.float32, name=\"softmax_float32\")(x) \n",
        "model_1 = tf.keras.Model(inputs, outputs)\n",
        "\n",
        "\n",
        "model_1.compile(loss=\"sparse_categorical_crossentropy\", # Use sparse_categorical_crossentropy when labels are *not* one-hot\n",
        "              optimizer=tf.keras.optimizers.Adam(),\n",
        "              metrics=[\"accuracy\"])"
      ],
      "metadata": {
        "id": "rZDMAFuwuzVA",
        "colab": {
          "base_uri": "https://localhost:8080/"
        },
        "outputId": "71bbe409-90aa-45f2-e05d-64f47e71b7d2"
      },
      "execution_count": 21,
      "outputs": [
        {
          "output_type": "stream",
          "name": "stdout",
          "text": [
            "Downloading data from https://storage.googleapis.com/keras-applications/efficientnetb0_notop.h5\n",
            "16711680/16705208 [==============================] - 0s 0us/step\n",
            "16719872/16705208 [==============================] - 0s 0us/step\n"
          ]
        }
      ]
    },
    {
      "cell_type": "code",
      "source": [
        "model_1.summary()"
      ],
      "metadata": {
        "colab": {
          "base_uri": "https://localhost:8080/"
        },
        "id": "vuWlkSf2vKt4",
        "outputId": "76bbb04f-ef03-4bf0-cd71-b92e0e4f9f9e"
      },
      "execution_count": null,
      "outputs": [
        {
          "output_type": "stream",
          "name": "stdout",
          "text": [
            "Model: \"model_2\"\n",
            "_________________________________________________________________\n",
            " Layer (type)                Output Shape              Param #   \n",
            "=================================================================\n",
            " input_layer (InputLayer)    [(None, 224, 224, 3)]     0         \n",
            "                                                                 \n",
            " efficientnetb0 (Functional)  (None, None, None, 1280)  4049571  \n",
            "                                                                 \n",
            " pooling_layer (GlobalAverag  (None, 1280)             0         \n",
            " ePooling2D)                                                     \n",
            "                                                                 \n",
            " dense_4 (Dense)             (None, 101)               129381    \n",
            "                                                                 \n",
            " softmax_float32 (Activation  (None, 101)              0         \n",
            " )                                                               \n",
            "                                                                 \n",
            "=================================================================\n",
            "Total params: 4,178,952\n",
            "Trainable params: 129,381\n",
            "Non-trainable params: 4,049,571\n",
            "_________________________________________________________________\n"
          ]
        }
      ]
    },
    {
      "cell_type": "code",
      "source": [
        "for layer in model_1.layers:\n",
        "  print(layer.name, layer.trainable, layer.dtype, layer.dtype_policy)"
      ],
      "metadata": {
        "colab": {
          "base_uri": "https://localhost:8080/"
        },
        "id": "efOXIIcHvRub",
        "outputId": "96dfea94-64cd-4efe-9517-f62f52f8e972"
      },
      "execution_count": null,
      "outputs": [
        {
          "output_type": "stream",
          "name": "stdout",
          "text": [
            "input_layer True float32 <Policy \"float32\">\n",
            "efficientnetb0 False float32 <Policy \"mixed_float16\">\n",
            "pooling_layer True float32 <Policy \"mixed_float16\">\n",
            "dense_3 True float32 <Policy \"mixed_float16\">\n",
            "softmax_float32 True float32 <Policy \"float32\">\n"
          ]
        }
      ]
    },
    {
      "cell_type": "code",
      "source": [
        "history_1 = model_1.fit(train_data2, epochs=5,steps_per_epoch=len(train_data2),\n",
        "                                                     validation_data=test_data2,\n",
        "                                                     callbacks=[create_tensorboard_callback(\"model1_feature_extraction\"),\n",
        "                                                                create_model_checkpoint(model_name=\"model1_feature_extraction\")])"
      ],
      "metadata": {
        "colab": {
          "base_uri": "https://localhost:8080/"
        },
        "id": "UU9se7Z-zrJB",
        "outputId": "6e84fbfe-1312-4f6b-cc90-034ccfeefb81"
      },
      "execution_count": null,
      "outputs": [
        {
          "output_type": "stream",
          "name": "stdout",
          "text": [
            "Epoch 1/5\n",
            "2367/2368 [============================>.] - ETA: 0s - loss: 1.8226 - accuracy: 0.5564INFO:tensorflow:Assets written to: model_checkpoints/model1_feature_extraction/assets\n"
          ]
        },
        {
          "output_type": "stream",
          "name": "stderr",
          "text": [
            "INFO:tensorflow:Assets written to: model_checkpoints/model1_feature_extraction/assets\n"
          ]
        },
        {
          "output_type": "stream",
          "name": "stdout",
          "text": [
            "\b\b\b\b\b\b\b\b\b\b\b\b\b\b\b\b\b\b\b\b\b\b\b\b\b\b\b\b\b\b\b\b\b\b\b\b\b\b\b\b\b\b\b\b\b\b\b\b\b\b\b\b\b\b\b\b\b\b\b\b\b\b\b\b\b\b\b\b\b\b\b\b\b\b\b\b\b\b\b\b\b\b\b\b\b\b\r2368/2368 [==============================] - 293s 103ms/step - loss: 1.8225 - accuracy: 0.5564 - val_loss: 1.2287 - val_accuracy: 0.6756\n",
            "Epoch 2/5\n",
            "2368/2368 [==============================] - ETA: 0s - loss: 1.2927 - accuracy: 0.6663INFO:tensorflow:Assets written to: model_checkpoints/model1_feature_extraction/assets\n"
          ]
        },
        {
          "output_type": "stream",
          "name": "stderr",
          "text": [
            "INFO:tensorflow:Assets written to: model_checkpoints/model1_feature_extraction/assets\n"
          ]
        },
        {
          "output_type": "stream",
          "name": "stdout",
          "text": [
            "\b\b\b\b\b\b\b\b\b\b\b\b\b\b\b\b\b\b\b\b\b\b\b\b\b\b\b\b\b\b\b\b\b\b\b\b\b\b\b\b\b\b\b\b\b\b\b\b\b\b\b\b\b\b\b\b\b\b\b\b\b\b\b\b\b\b\b\b\b\b\b\b\b\b\b\b\b\b\b\b\b\b\b\b\b\b\r2368/2368 [==============================] - 285s 119ms/step - loss: 1.2927 - accuracy: 0.6663 - val_loss: 1.1307 - val_accuracy: 0.6993\n",
            "Epoch 3/5\n",
            "2368/2368 [==============================] - ETA: 0s - loss: 1.1428 - accuracy: 0.7021INFO:tensorflow:Assets written to: model_checkpoints/model1_feature_extraction/assets\n"
          ]
        },
        {
          "output_type": "stream",
          "name": "stderr",
          "text": [
            "INFO:tensorflow:Assets written to: model_checkpoints/model1_feature_extraction/assets\n"
          ]
        },
        {
          "output_type": "stream",
          "name": "stdout",
          "text": [
            "\b\b\b\b\b\b\b\b\b\b\b\b\b\b\b\b\b\b\b\b\b\b\b\b\b\b\b\b\b\b\b\b\b\b\b\b\b\b\b\b\b\b\b\b\b\b\b\b\b\b\b\b\b\b\b\b\b\b\b\b\b\b\b\b\b\b\b\b\b\b\b\b\b\b\b\b\b\b\b\b\b\b\b\b\b\b\r2368/2368 [==============================] - 255s 107ms/step - loss: 1.1428 - accuracy: 0.7021 - val_loss: 1.0842 - val_accuracy: 0.7071\n",
            "Epoch 4/5\n",
            "2367/2368 [============================>.] - ETA: 0s - loss: 1.0454 - accuracy: 0.7253INFO:tensorflow:Assets written to: model_checkpoints/model1_feature_extraction/assets\n"
          ]
        },
        {
          "output_type": "stream",
          "name": "stderr",
          "text": [
            "INFO:tensorflow:Assets written to: model_checkpoints/model1_feature_extraction/assets\n"
          ]
        },
        {
          "output_type": "stream",
          "name": "stdout",
          "text": [
            "\b\b\b\b\b\b\b\b\b\b\b\b\b\b\b\b\b\b\b\b\b\b\b\b\b\b\b\b\b\b\b\b\b\b\b\b\b\b\b\b\b\b\b\b\b\b\b\b\b\b\b\b\b\b\b\b\b\b\b\b\b\b\b\b\b\b\b\b\b\b\b\b\b\b\b\b\b\b\b\b\b\b\b\b\b\b\r2368/2368 [==============================] - 274s 115ms/step - loss: 1.0453 - accuracy: 0.7253 - val_loss: 1.0747 - val_accuracy: 0.7085\n",
            "Epoch 5/5\n",
            "2367/2368 [============================>.] - ETA: 0s - loss: 0.9731 - accuracy: 0.7443INFO:tensorflow:Assets written to: model_checkpoints/model1_feature_extraction/assets\n"
          ]
        },
        {
          "output_type": "stream",
          "name": "stderr",
          "text": [
            "INFO:tensorflow:Assets written to: model_checkpoints/model1_feature_extraction/assets\n"
          ]
        },
        {
          "output_type": "stream",
          "name": "stdout",
          "text": [
            "\b\b\b\b\b\b\b\b\b\b\b\b\b\b\b\b\b\b\b\b\b\b\b\b\b\b\b\b\b\b\b\b\b\b\b\b\b\b\b\b\b\b\b\b\b\b\b\b\b\b\b\b\b\b\b\b\b\b\b\b\b\b\b\b\b\b\b\b\b\b\b\b\b\b\b\b\b\b\b\b\b\b\b\b\b\b\r2368/2368 [==============================] - 280s 117ms/step - loss: 0.9731 - accuracy: 0.7443 - val_loss: 1.0643 - val_accuracy: 0.7107\n"
          ]
        }
      ]
    },
    {
      "cell_type": "code",
      "source": [
        "model_1_loaded = tf.keras.models.load_model(\"model_checkpoints/model1_feature_extraction\")\n",
        "model_1_loaded.evaluate(test_data2)"
      ],
      "metadata": {
        "colab": {
          "base_uri": "https://localhost:8080/"
        },
        "id": "wqSjBnpt3ZZk",
        "outputId": "7ec71db8-7497-427f-ce1b-0450218b528a"
      },
      "execution_count": null,
      "outputs": [
        {
          "output_type": "stream",
          "name": "stdout",
          "text": [
            "790/790 [==============================] - 52s 63ms/step - loss: 1.0643 - accuracy: 0.7107\n"
          ]
        },
        {
          "output_type": "execute_result",
          "data": {
            "text/plain": [
              "[1.0642600059509277, 0.7106930613517761]"
            ]
          },
          "metadata": {},
          "execution_count": 43
        }
      ]
    },
    {
      "cell_type": "code",
      "source": [
        "def plot_loss_curves(history):\n",
        " \n",
        "  loss = history.history['loss']\n",
        "  val_loss = history.history['val_loss']\n",
        "\n",
        "  accuracy = history.history['accuracy']\n",
        "  val_accuracy = history.history['val_accuracy']\n",
        "\n",
        "  epochs = range(len(history.history['loss']))\n",
        "\n",
        "  # Plot loss\n",
        "  plt.plot(epochs, loss, label='training_loss')\n",
        "  plt.plot(epochs, val_loss, label='val_loss')\n",
        "  plt.title('Loss')\n",
        "  plt.xlabel('Epochs')\n",
        "  plt.legend()\n",
        "\n",
        "  # Plot accuracy\n",
        "  plt.figure()\n",
        "  plt.plot(epochs, accuracy, label='training_accuracy')\n",
        "  plt.plot(epochs, val_accuracy, label='val_accuracy')\n",
        "  plt.title('Accuracy')\n",
        "  plt.xlabel('Epochs')\n",
        "  plt.legend();"
      ],
      "metadata": {
        "id": "Lhifnsc3J1gV"
      },
      "execution_count": null,
      "outputs": []
    },
    {
      "cell_type": "code",
      "source": [
        "plot_loss_curves(history_1)"
      ],
      "metadata": {
        "colab": {
          "base_uri": "https://localhost:8080/",
          "height": 573
        },
        "id": "xxiiI7vDJ39v",
        "outputId": "4652553a-e616-451d-9510-dfff1c8b8ad7"
      },
      "execution_count": null,
      "outputs": [
        {
          "output_type": "display_data",
          "data": {
            "text/plain": [
              "<Figure size 432x288 with 1 Axes>"
            ],
            "image/png": "[encoded data removed]"
          },
          "metadata": {
            "needs_background": "light"
          }
        },
        {
          "output_type": "display_data",
          "data": {
            "text/plain": [
              "<Figure size 432x288 with 1 Axes>"
            ],
            "image/png": "[encoded data removed]"
          },
          "metadata": {
            "needs_background": "light"
          }
        }
      ]
    },
    {
      "cell_type": "markdown",
      "source": [
        "Fine-Tuning The Model"
      ],
      "metadata": {
        "id": "nHLrtSIW6ReP"
      }
    },
    {
      "cell_type": "code",
      "source": [
        "base_model.trainable = True\n",
        "\n",
        "# Freeze all layers except for the\n",
        "for layer in base_model.layers[:-20]:\n",
        "  layer.trainable = False\n",
        "model_1.compile(loss=\"sparse_categorical_crossentropy\",\n",
        "              optimizer=tf.keras.optimizers.Adam(learning_rate=0.0001), # lr is 10x lower than before for fine-tuning\n",
        "              metrics=[\"accuracy\"])"
      ],
      "metadata": {
        "id": "0V-kjM469z10"
      },
      "execution_count": null,
      "outputs": []
    },
    {
      "cell_type": "code",
      "source": [
        "for layer_number, layer in enumerate(base_model.layers):\n",
        "  print(layer_number, layer.name, layer.trainable,layer.dtype, layer.dtype_policy)"
      ],
      "metadata": {
        "colab": {
          "base_uri": "https://localhost:8080/"
        },
        "id": "ruRNtPb2-HDG",
        "outputId": "bffcfda0-16d9-48f4-e813-e42744b30b42"
      },
      "execution_count": null,
      "outputs": [
        {
          "output_type": "stream",
          "name": "stdout",
          "text": [
            "0 input_4 False float32 <Policy \"float32\">\n",
            "1 rescaling_3 False float32 <Policy \"mixed_float16\">\n",
            "2 normalization_3 False float32 <Policy \"mixed_float16\">\n",
            "3 stem_conv_pad False float32 <Policy \"mixed_float16\">\n",
            "4 stem_conv False float32 <Policy \"mixed_float16\">\n",
            "5 stem_bn False float32 <Policy \"mixed_float16\">\n",
            "6 stem_activation False float32 <Policy \"mixed_float16\">\n",
            "7 block1a_dwconv False float32 <Policy \"mixed_float16\">\n",
            "8 block1a_bn False float32 <Policy \"mixed_float16\">\n",
            "9 block1a_activation False float32 <Policy \"mixed_float16\">\n",
            "10 block1a_se_squeeze False float32 <Policy \"mixed_float16\">\n",
            "11 block1a_se_reshape False float32 <Policy \"mixed_float16\">\n",
            "12 block1a_se_reduce False float32 <Policy \"mixed_float16\">\n",
            "13 block1a_se_expand False float32 <Policy \"mixed_float16\">\n",
            "14 block1a_se_excite False float32 <Policy \"mixed_float16\">\n",
            "15 block1a_project_conv False float32 <Policy \"mixed_float16\">\n",
            "16 block1a_project_bn False float32 <Policy \"mixed_float16\">\n",
            "17 block2a_expand_conv False float32 <Policy \"mixed_float16\">\n",
            "18 block2a_expand_bn False float32 <Policy \"mixed_float16\">\n",
            "19 block2a_expand_activation False float32 <Policy \"mixed_float16\">\n",
            "20 block2a_dwconv_pad False float32 <Policy \"mixed_float16\">\n",
            "21 block2a_dwconv False float32 <Policy \"mixed_float16\">\n",
            "22 block2a_bn False float32 <Policy \"mixed_float16\">\n",
            "23 block2a_activation False float32 <Policy \"mixed_float16\">\n",
            "24 block2a_se_squeeze False float32 <Policy \"mixed_float16\">\n",
            "25 block2a_se_reshape False float32 <Policy \"mixed_float16\">\n",
            "26 block2a_se_reduce False float32 <Policy \"mixed_float16\">\n",
            "27 block2a_se_expand False float32 <Policy \"mixed_float16\">\n",
            "28 block2a_se_excite False float32 <Policy \"mixed_float16\">\n",
            "29 block2a_project_conv False float32 <Policy \"mixed_float16\">\n",
            "30 block2a_project_bn False float32 <Policy \"mixed_float16\">\n",
            "31 block2b_expand_conv False float32 <Policy \"mixed_float16\">\n",
            "32 block2b_expand_bn False float32 <Policy \"mixed_float16\">\n",
            "33 block2b_expand_activation False float32 <Policy \"mixed_float16\">\n",
            "34 block2b_dwconv False float32 <Policy \"mixed_float16\">\n",
            "35 block2b_bn False float32 <Policy \"mixed_float16\">\n",
            "36 block2b_activation False float32 <Policy \"mixed_float16\">\n",
            "37 block2b_se_squeeze False float32 <Policy \"mixed_float16\">\n",
            "38 block2b_se_reshape False float32 <Policy \"mixed_float16\">\n",
            "39 block2b_se_reduce False float32 <Policy \"mixed_float16\">\n",
            "40 block2b_se_expand False float32 <Policy \"mixed_float16\">\n",
            "41 block2b_se_excite False float32 <Policy \"mixed_float16\">\n",
            "42 block2b_project_conv False float32 <Policy \"mixed_float16\">\n",
            "43 block2b_project_bn False float32 <Policy \"mixed_float16\">\n",
            "44 block2b_drop False float32 <Policy \"mixed_float16\">\n",
            "45 block2b_add False float32 <Policy \"mixed_float16\">\n",
            "46 block3a_expand_conv False float32 <Policy \"mixed_float16\">\n",
            "47 block3a_expand_bn False float32 <Policy \"mixed_float16\">\n",
            "48 block3a_expand_activation False float32 <Policy \"mixed_float16\">\n",
            "49 block3a_dwconv_pad False float32 <Policy \"mixed_float16\">\n",
            "50 block3a_dwconv False float32 <Policy \"mixed_float16\">\n",
            "51 block3a_bn False float32 <Policy \"mixed_float16\">\n",
            "52 block3a_activation False float32 <Policy \"mixed_float16\">\n",
            "53 block3a_se_squeeze False float32 <Policy \"mixed_float16\">\n",
            "54 block3a_se_reshape False float32 <Policy \"mixed_float16\">\n",
            "55 block3a_se_reduce False float32 <Policy \"mixed_float16\">\n",
            "56 block3a_se_expand False float32 <Policy \"mixed_float16\">\n",
            "57 block3a_se_excite False float32 <Policy \"mixed_float16\">\n",
            "58 block3a_project_conv False float32 <Policy \"mixed_float16\">\n",
            "59 block3a_project_bn False float32 <Policy \"mixed_float16\">\n",
            "60 block3b_expand_conv False float32 <Policy \"mixed_float16\">\n",
            "61 block3b_expand_bn False float32 <Policy \"mixed_float16\">\n",
            "62 block3b_expand_activation False float32 <Policy \"mixed_float16\">\n",
            "63 block3b_dwconv False float32 <Policy \"mixed_float16\">\n",
            "64 block3b_bn False float32 <Policy \"mixed_float16\">\n",
            "65 block3b_activation False float32 <Policy \"mixed_float16\">\n",
            "66 block3b_se_squeeze False float32 <Policy \"mixed_float16\">\n",
            "67 block3b_se_reshape False float32 <Policy \"mixed_float16\">\n",
            "68 block3b_se_reduce False float32 <Policy \"mixed_float16\">\n",
            "69 block3b_se_expand False float32 <Policy \"mixed_float16\">\n",
            "70 block3b_se_excite False float32 <Policy \"mixed_float16\">\n",
            "71 block3b_project_conv False float32 <Policy \"mixed_float16\">\n",
            "72 block3b_project_bn False float32 <Policy \"mixed_float16\">\n",
            "73 block3b_drop False float32 <Policy \"mixed_float16\">\n",
            "74 block3b_add False float32 <Policy \"mixed_float16\">\n",
            "75 block4a_expand_conv False float32 <Policy \"mixed_float16\">\n",
            "76 block4a_expand_bn False float32 <Policy \"mixed_float16\">\n",
            "77 block4a_expand_activation False float32 <Policy \"mixed_float16\">\n",
            "78 block4a_dwconv_pad False float32 <Policy \"mixed_float16\">\n",
            "79 block4a_dwconv False float32 <Policy \"mixed_float16\">\n",
            "80 block4a_bn False float32 <Policy \"mixed_float16\">\n",
            "81 block4a_activation False float32 <Policy \"mixed_float16\">\n",
            "82 block4a_se_squeeze False float32 <Policy \"mixed_float16\">\n",
            "83 block4a_se_reshape False float32 <Policy \"mixed_float16\">\n",
            "84 block4a_se_reduce False float32 <Policy \"mixed_float16\">\n",
            "85 block4a_se_expand False float32 <Policy \"mixed_float16\">\n",
            "86 block4a_se_excite False float32 <Policy \"mixed_float16\">\n",
            "87 block4a_project_conv False float32 <Policy \"mixed_float16\">\n",
            "88 block4a_project_bn False float32 <Policy \"mixed_float16\">\n",
            "89 block4b_expand_conv False float32 <Policy \"mixed_float16\">\n",
            "90 block4b_expand_bn False float32 <Policy \"mixed_float16\">\n",
            "91 block4b_expand_activation False float32 <Policy \"mixed_float16\">\n",
            "92 block4b_dwconv False float32 <Policy \"mixed_float16\">\n",
            "93 block4b_bn False float32 <Policy \"mixed_float16\">\n",
            "94 block4b_activation False float32 <Policy \"mixed_float16\">\n",
            "95 block4b_se_squeeze False float32 <Policy \"mixed_float16\">\n",
            "96 block4b_se_reshape False float32 <Policy \"mixed_float16\">\n",
            "97 block4b_se_reduce False float32 <Policy \"mixed_float16\">\n",
            "98 block4b_se_expand False float32 <Policy \"mixed_float16\">\n",
            "99 block4b_se_excite False float32 <Policy \"mixed_float16\">\n",
            "100 block4b_project_conv False float32 <Policy \"mixed_float16\">\n",
            "101 block4b_project_bn False float32 <Policy \"mixed_float16\">\n",
            "102 block4b_drop False float32 <Policy \"mixed_float16\">\n",
            "103 block4b_add False float32 <Policy \"mixed_float16\">\n",
            "104 block4c_expand_conv False float32 <Policy \"mixed_float16\">\n",
            "105 block4c_expand_bn False float32 <Policy \"mixed_float16\">\n",
            "106 block4c_expand_activation False float32 <Policy \"mixed_float16\">\n",
            "107 block4c_dwconv False float32 <Policy \"mixed_float16\">\n",
            "108 block4c_bn False float32 <Policy \"mixed_float16\">\n",
            "109 block4c_activation False float32 <Policy \"mixed_float16\">\n",
            "110 block4c_se_squeeze False float32 <Policy \"mixed_float16\">\n",
            "111 block4c_se_reshape False float32 <Policy \"mixed_float16\">\n",
            "112 block4c_se_reduce False float32 <Policy \"mixed_float16\">\n",
            "113 block4c_se_expand False float32 <Policy \"mixed_float16\">\n",
            "114 block4c_se_excite False float32 <Policy \"mixed_float16\">\n",
            "115 block4c_project_conv False float32 <Policy \"mixed_float16\">\n",
            "116 block4c_project_bn False float32 <Policy \"mixed_float16\">\n",
            "117 block4c_drop False float32 <Policy \"mixed_float16\">\n",
            "118 block4c_add False float32 <Policy \"mixed_float16\">\n",
            "119 block5a_expand_conv False float32 <Policy \"mixed_float16\">\n",
            "120 block5a_expand_bn False float32 <Policy \"mixed_float16\">\n",
            "121 block5a_expand_activation False float32 <Policy \"mixed_float16\">\n",
            "122 block5a_dwconv False float32 <Policy \"mixed_float16\">\n",
            "123 block5a_bn False float32 <Policy \"mixed_float16\">\n",
            "124 block5a_activation False float32 <Policy \"mixed_float16\">\n",
            "125 block5a_se_squeeze False float32 <Policy \"mixed_float16\">\n",
            "126 block5a_se_reshape False float32 <Policy \"mixed_float16\">\n",
            "127 block5a_se_reduce False float32 <Policy \"mixed_float16\">\n",
            "128 block5a_se_expand False float32 <Policy \"mixed_float16\">\n",
            "129 block5a_se_excite False float32 <Policy \"mixed_float16\">\n",
            "130 block5a_project_conv False float32 <Policy \"mixed_float16\">\n",
            "131 block5a_project_bn False float32 <Policy \"mixed_float16\">\n",
            "132 block5b_expand_conv False float32 <Policy \"mixed_float16\">\n",
            "133 block5b_expand_bn False float32 <Policy \"mixed_float16\">\n",
            "134 block5b_expand_activation False float32 <Policy \"mixed_float16\">\n",
            "135 block5b_dwconv False float32 <Policy \"mixed_float16\">\n",
            "136 block5b_bn False float32 <Policy \"mixed_float16\">\n",
            "137 block5b_activation False float32 <Policy \"mixed_float16\">\n",
            "138 block5b_se_squeeze False float32 <Policy \"mixed_float16\">\n",
            "139 block5b_se_reshape False float32 <Policy \"mixed_float16\">\n",
            "140 block5b_se_reduce False float32 <Policy \"mixed_float16\">\n",
            "141 block5b_se_expand False float32 <Policy \"mixed_float16\">\n",
            "142 block5b_se_excite False float32 <Policy \"mixed_float16\">\n",
            "143 block5b_project_conv False float32 <Policy \"mixed_float16\">\n",
            "144 block5b_project_bn False float32 <Policy \"mixed_float16\">\n",
            "145 block5b_drop False float32 <Policy \"mixed_float16\">\n",
            "146 block5b_add False float32 <Policy \"mixed_float16\">\n",
            "147 block5c_expand_conv False float32 <Policy \"mixed_float16\">\n",
            "148 block5c_expand_bn False float32 <Policy \"mixed_float16\">\n",
            "149 block5c_expand_activation False float32 <Policy \"mixed_float16\">\n",
            "150 block5c_dwconv False float32 <Policy \"mixed_float16\">\n",
            "151 block5c_bn False float32 <Policy \"mixed_float16\">\n",
            "152 block5c_activation False float32 <Policy \"mixed_float16\">\n",
            "153 block5c_se_squeeze False float32 <Policy \"mixed_float16\">\n",
            "154 block5c_se_reshape False float32 <Policy \"mixed_float16\">\n",
            "155 block5c_se_reduce False float32 <Policy \"mixed_float16\">\n",
            "156 block5c_se_expand False float32 <Policy \"mixed_float16\">\n",
            "157 block5c_se_excite False float32 <Policy \"mixed_float16\">\n",
            "158 block5c_project_conv False float32 <Policy \"mixed_float16\">\n",
            "159 block5c_project_bn False float32 <Policy \"mixed_float16\">\n",
            "160 block5c_drop False float32 <Policy \"mixed_float16\">\n",
            "161 block5c_add False float32 <Policy \"mixed_float16\">\n",
            "162 block6a_expand_conv False float32 <Policy \"mixed_float16\">\n",
            "163 block6a_expand_bn False float32 <Policy \"mixed_float16\">\n",
            "164 block6a_expand_activation False float32 <Policy \"mixed_float16\">\n",
            "165 block6a_dwconv_pad False float32 <Policy \"mixed_float16\">\n",
            "166 block6a_dwconv False float32 <Policy \"mixed_float16\">\n",
            "167 block6a_bn False float32 <Policy \"mixed_float16\">\n",
            "168 block6a_activation False float32 <Policy \"mixed_float16\">\n",
            "169 block6a_se_squeeze False float32 <Policy \"mixed_float16\">\n",
            "170 block6a_se_reshape False float32 <Policy \"mixed_float16\">\n",
            "171 block6a_se_reduce False float32 <Policy \"mixed_float16\">\n",
            "172 block6a_se_expand False float32 <Policy \"mixed_float16\">\n",
            "173 block6a_se_excite False float32 <Policy \"mixed_float16\">\n",
            "174 block6a_project_conv False float32 <Policy \"mixed_float16\">\n",
            "175 block6a_project_bn False float32 <Policy \"mixed_float16\">\n",
            "176 block6b_expand_conv False float32 <Policy \"mixed_float16\">\n",
            "177 block6b_expand_bn False float32 <Policy \"mixed_float16\">\n",
            "178 block6b_expand_activation False float32 <Policy \"mixed_float16\">\n",
            "179 block6b_dwconv False float32 <Policy \"mixed_float16\">\n",
            "180 block6b_bn False float32 <Policy \"mixed_float16\">\n",
            "181 block6b_activation False float32 <Policy \"mixed_float16\">\n",
            "182 block6b_se_squeeze False float32 <Policy \"mixed_float16\">\n",
            "183 block6b_se_reshape False float32 <Policy \"mixed_float16\">\n",
            "184 block6b_se_reduce False float32 <Policy \"mixed_float16\">\n",
            "185 block6b_se_expand False float32 <Policy \"mixed_float16\">\n",
            "186 block6b_se_excite False float32 <Policy \"mixed_float16\">\n",
            "187 block6b_project_conv False float32 <Policy \"mixed_float16\">\n",
            "188 block6b_project_bn False float32 <Policy \"mixed_float16\">\n",
            "189 block6b_drop False float32 <Policy \"mixed_float16\">\n",
            "190 block6b_add False float32 <Policy \"mixed_float16\">\n",
            "191 block6c_expand_conv False float32 <Policy \"mixed_float16\">\n",
            "192 block6c_expand_bn False float32 <Policy \"mixed_float16\">\n",
            "193 block6c_expand_activation False float32 <Policy \"mixed_float16\">\n",
            "194 block6c_dwconv False float32 <Policy \"mixed_float16\">\n",
            "195 block6c_bn False float32 <Policy \"mixed_float16\">\n",
            "196 block6c_activation False float32 <Policy \"mixed_float16\">\n",
            "197 block6c_se_squeeze False float32 <Policy \"mixed_float16\">\n",
            "198 block6c_se_reshape False float32 <Policy \"mixed_float16\">\n",
            "199 block6c_se_reduce False float32 <Policy \"mixed_float16\">\n",
            "200 block6c_se_expand False float32 <Policy \"mixed_float16\">\n",
            "201 block6c_se_excite False float32 <Policy \"mixed_float16\">\n",
            "202 block6c_project_conv False float32 <Policy \"mixed_float16\">\n",
            "203 block6c_project_bn False float32 <Policy \"mixed_float16\">\n",
            "204 block6c_drop False float32 <Policy \"mixed_float16\">\n",
            "205 block6c_add False float32 <Policy \"mixed_float16\">\n",
            "206 block6d_expand_conv False float32 <Policy \"mixed_float16\">\n",
            "207 block6d_expand_bn False float32 <Policy \"mixed_float16\">\n",
            "208 block6d_expand_activation False float32 <Policy \"mixed_float16\">\n",
            "209 block6d_dwconv False float32 <Policy \"mixed_float16\">\n",
            "210 block6d_bn False float32 <Policy \"mixed_float16\">\n",
            "211 block6d_activation False float32 <Policy \"mixed_float16\">\n",
            "212 block6d_se_squeeze False float32 <Policy \"mixed_float16\">\n",
            "213 block6d_se_reshape False float32 <Policy \"mixed_float16\">\n",
            "214 block6d_se_reduce False float32 <Policy \"mixed_float16\">\n",
            "215 block6d_se_expand False float32 <Policy \"mixed_float16\">\n",
            "216 block6d_se_excite False float32 <Policy \"mixed_float16\">\n",
            "217 block6d_project_conv True float32 <Policy \"mixed_float16\">\n",
            "218 block6d_project_bn True float32 <Policy \"mixed_float16\">\n",
            "219 block6d_drop True float32 <Policy \"mixed_float16\">\n",
            "220 block6d_add True float32 <Policy \"mixed_float16\">\n",
            "221 block7a_expand_conv True float32 <Policy \"mixed_float16\">\n",
            "222 block7a_expand_bn True float32 <Policy \"mixed_float16\">\n",
            "223 block7a_expand_activation True float32 <Policy \"mixed_float16\">\n",
            "224 block7a_dwconv True float32 <Policy \"mixed_float16\">\n",
            "225 block7a_bn True float32 <Policy \"mixed_float16\">\n",
            "226 block7a_activation True float32 <Policy \"mixed_float16\">\n",
            "227 block7a_se_squeeze True float32 <Policy \"mixed_float16\">\n",
            "228 block7a_se_reshape True float32 <Policy \"mixed_float16\">\n",
            "229 block7a_se_reduce True float32 <Policy \"mixed_float16\">\n",
            "230 block7a_se_expand True float32 <Policy \"mixed_float16\">\n",
            "231 block7a_se_excite True float32 <Policy \"mixed_float16\">\n",
            "232 block7a_project_conv True float32 <Policy \"mixed_float16\">\n",
            "233 block7a_project_bn True float32 <Policy \"mixed_float16\">\n",
            "234 top_conv True float32 <Policy \"mixed_float16\">\n",
            "235 top_bn True float32 <Policy \"mixed_float16\">\n",
            "236 top_activation True float32 <Policy \"mixed_float16\">\n"
          ]
        }
      ]
    },
    {
      "cell_type": "code",
      "source": [
        "model_1.summary()"
      ],
      "metadata": {
        "colab": {
          "base_uri": "https://localhost:8080/"
        },
        "id": "gq4bct8sA6TZ",
        "outputId": "9b1e0cee-15af-4c9b-bcfe-aae98d2f7691"
      },
      "execution_count": null,
      "outputs": [
        {
          "output_type": "stream",
          "name": "stdout",
          "text": [
            "Model: \"model_2\"\n",
            "_________________________________________________________________\n",
            " Layer (type)                Output Shape              Param #   \n",
            "=================================================================\n",
            " input_layer (InputLayer)    [(None, 224, 224, 3)]     0         \n",
            "                                                                 \n",
            " efficientnetb0 (Functional)  (None, None, None, 1280)  4049571  \n",
            "                                                                 \n",
            " pooling_layer (GlobalAverag  (None, 1280)             0         \n",
            " ePooling2D)                                                     \n",
            "                                                                 \n",
            " dense_4 (Dense)             (None, 101)               129381    \n",
            "                                                                 \n",
            " softmax_float32 (Activation  (None, 101)              0         \n",
            " )                                                               \n",
            "                                                                 \n",
            "=================================================================\n",
            "Total params: 4,178,952\n",
            "Trainable params: 1,480,341\n",
            "Non-trainable params: 2,698,611\n",
            "_________________________________________________________________\n"
          ]
        }
      ]
    },
    {
      "cell_type": "code",
      "source": [
        "early_stopping = tf.keras.callbacks.EarlyStopping(monitor=\"val_loss\", \n",
        "                                                  patience=3)"
      ],
      "metadata": {
        "id": "lQypeW9HDqJT"
      },
      "execution_count": 25,
      "outputs": []
    },
    {
      "cell_type": "code",
      "source": [
        "reduce_lr = tf.keras.callbacks.ReduceLROnPlateau(monitor=\"val_loss\",  \n",
        "                                                 factor=0.2,\n",
        "                                                 patience=2,\n",
        "                                                 verbose=1,\n",
        "                                                 min_lr=1e-7)"
      ],
      "metadata": {
        "id": "eD6hfdwrDsgT"
      },
      "execution_count": 26,
      "outputs": []
    },
    {
      "cell_type": "code",
      "source": [
        "history_2 = model_1.fit(train_data2,\n",
        "                        epochs=100,\n",
        "                        validation_data=test_data2,\n",
        "                        initial_epoch=history_1.epoch[-1], # start from previous last epoch\n",
        "                        callbacks=[create_tensorboard_callback(\"model1_fine\"),create_model_checkpoint(model_name=\"model1_fine\"),early_stopping,reduce_lr])"
      ],
      "metadata": {
        "colab": {
          "base_uri": "https://localhost:8080/"
        },
        "id": "3WuY8KGg-bdV",
        "outputId": "85bd8418-8626-4d41-c00c-e8822d59b2a1"
      },
      "execution_count": null,
      "outputs": [
        {
          "output_type": "stream",
          "name": "stdout",
          "text": [
            "Epoch 5/100\n",
            "2367/2368 [============================>.] - ETA: 0s - loss: 0.8258 - accuracy: 0.7780INFO:tensorflow:Assets written to: model_checkpoints/model1_fine/assets\n"
          ]
        },
        {
          "output_type": "stream",
          "name": "stderr",
          "text": [
            "INFO:tensorflow:Assets written to: model_checkpoints/model1_fine/assets\n"
          ]
        },
        {
          "output_type": "stream",
          "name": "stdout",
          "text": [
            "\b\b\b\b\b\b\b\b\b\b\b\b\b\b\b\b\b\b\b\b\b\b\b\b\b\b\b\b\b\b\b\b\b\b\b\b\b\b\b\b\b\b\b\b\b\b\b\b\b\b\b\b\b\b\b\b\b\b\b\b\b\b\b\b\b\b\b\b\b\b\b\b\b\b\b\b\b\b\b\b\b\b\b\b\b\b\r2368/2368 [==============================] - 301s 123ms/step - loss: 0.8258 - accuracy: 0.7780 - val_loss: 0.9827 - val_accuracy: 0.7336 - lr: 1.0000e-04\n",
            "Epoch 6/100\n",
            "2367/2368 [============================>.] - ETA: 0s - loss: 0.6248 - accuracy: 0.8324INFO:tensorflow:Assets written to: model_checkpoints/model1_fine/assets\n"
          ]
        },
        {
          "output_type": "stream",
          "name": "stderr",
          "text": [
            "INFO:tensorflow:Assets written to: model_checkpoints/model1_fine/assets\n"
          ]
        },
        {
          "output_type": "stream",
          "name": "stdout",
          "text": [
            "\b\b\b\b\b\b\b\b\b\b\b\b\b\b\b\b\b\b\b\b\b\b\b\b\b\b\b\b\b\b\b\b\b\b\b\b\b\b\b\b\b\b\b\b\b\b\b\b\b\b\b\b\b\b\b\b\b\b\b\b\b\b\b\b\b\b\b\b\b\b\b\b\b\b\b\b\b\b\b\b\b\b\b\b\b\b\r2368/2368 [==============================] - 255s 107ms/step - loss: 0.6248 - accuracy: 0.8324 - val_loss: 0.9826 - val_accuracy: 0.7399 - lr: 1.0000e-04\n",
            "Epoch 7/100\n",
            "2368/2368 [==============================] - ETA: 0s - loss: 0.4757 - accuracy: 0.8730\n",
            "Epoch 7: ReduceLROnPlateau reducing learning rate to 1.9999999494757503e-05.\n",
            "2368/2368 [==============================] - 256s 107ms/step - loss: 0.4757 - accuracy: 0.8730 - val_loss: 1.0367 - val_accuracy: 0.7363 - lr: 1.0000e-04\n",
            "Epoch 8/100\n",
            "2368/2368 [==============================] - 221s 92ms/step - loss: 0.2827 - accuracy: 0.9323 - val_loss: 1.0604 - val_accuracy: 0.7425 - lr: 2.0000e-05\n",
            "Epoch 9/100\n",
            "2367/2368 [============================>.] - ETA: 0s - loss: 0.2442 - accuracy: 0.9438\n",
            "Epoch 9: ReduceLROnPlateau reducing learning rate to 3.999999898951501e-06.\n",
            "2368/2368 [==============================] - 257s 107ms/step - loss: 0.2442 - accuracy: 0.9438 - val_loss: 1.0942 - val_accuracy: 0.7402 - lr: 2.0000e-05\n"
          ]
        }
      ]
    },
    {
      "cell_type": "code",
      "source": [
        "model_1_loaded_fine = tf.keras.models.load_model(\"model_checkpoints/model1_fine\")\n",
        "model_1_loaded_fine.evaluate(test_data2)"
      ],
      "metadata": {
        "colab": {
          "base_uri": "https://localhost:8080/"
        },
        "id": "hq9hxYDU--ax",
        "outputId": "9da15cfb-32a1-416e-bf5a-0464ff5dbea0"
      },
      "execution_count": null,
      "outputs": [
        {
          "output_type": "stream",
          "name": "stdout",
          "text": [
            "790/790 [==============================] - 55s 67ms/step - loss: 0.9826 - accuracy: 0.7399\n"
          ]
        },
        {
          "output_type": "execute_result",
          "data": {
            "text/plain": [
              "[0.9825883507728577, 0.7398812174797058]"
            ]
          },
          "metadata": {},
          "execution_count": 73
        }
      ]
    },
    {
      "cell_type": "code",
      "source": [
        "plot_loss_curves(history_2)\n"
      ],
      "metadata": {
        "colab": {
          "base_uri": "https://localhost:8080/",
          "height": 573
        },
        "id": "Rt2DYhX8KDWe",
        "outputId": "3310b99e-8719-41e0-ca03-d889fdaf8218"
      },
      "execution_count": null,
      "outputs": [
        {
          "output_type": "display_data",
          "data": {
            "text/plain": [
              "<Figure size 432x288 with 1 Axes>"
            ],
            "image/png": "[encoded data removed]"
          },
          "metadata": {
            "needs_background": "light"
          }
        },
        {
          "output_type": "display_data",
          "data": {
            "text/plain": [
              "<Figure size 432x288 with 1 Axes>"
            ],
            "image/png": "[encoded data removed]"
          },
          "metadata": {
            "needs_background": "light"
          }
        }
      ]
    },
    {
      "cell_type": "code",
      "source": [
        "def compare_historys(original_history, new_history, initial_epochs=5):\n",
        "\n",
        "    acc = original_history.history[\"accuracy\"]\n",
        "    loss = original_history.history[\"loss\"]\n",
        "\n",
        "    val_acc = original_history.history[\"val_accuracy\"]\n",
        "    val_loss = original_history.history[\"val_loss\"]\n",
        "\n",
        "\n",
        "    total_acc = acc + new_history.history[\"accuracy\"]\n",
        "    total_loss = loss + new_history.history[\"loss\"]\n",
        "\n",
        "    total_val_acc = val_acc + new_history.history[\"val_accuracy\"]\n",
        "    total_val_loss = val_loss + new_history.history[\"val_loss\"]\n",
        "\n",
        "\n",
        "    plt.figure(figsize=(8, 8))\n",
        "    plt.subplot(2, 1, 1)\n",
        "    plt.plot(total_acc, label='Training Accuracy')\n",
        "    plt.plot(total_val_acc, label='Validation Accuracy')\n",
        "    plt.plot([initial_epochs-1, initial_epochs-1],\n",
        "              plt.ylim(), label='Start Fine Tuning') \n",
        "    plt.legend(loc='lower right')\n",
        "    plt.title('Training and Validation Accuracy')\n",
        "\n",
        "    plt.subplot(2, 1, 2)\n",
        "    plt.plot(total_loss, label='Training Loss')\n",
        "    plt.plot(total_val_loss, label='Validation Loss')\n",
        "    plt.plot([initial_epochs-1, initial_epochs-1],\n",
        "              plt.ylim(), label='Start Fine Tuning') \n",
        "    plt.legend(loc='upper right')\n",
        "    plt.title('Training and Validation Loss')\n",
        "    plt.xlabel('epoch')\n",
        "    plt.show()"
      ],
      "metadata": {
        "id": "39VMGqZ-Kwg5"
      },
      "execution_count": null,
      "outputs": []
    },
    {
      "cell_type": "code",
      "source": [
        "compare_historys(history_1,history_2)"
      ],
      "metadata": {
        "colab": {
          "base_uri": "https://localhost:8080/",
          "height": 513
        },
        "id": "DRkwZW0GK2ay",
        "outputId": "e55dcb64-0392-4ad8-e26b-c0c16964f8a1"
      },
      "execution_count": null,
      "outputs": [
        {
          "output_type": "display_data",
          "data": {
            "text/plain": [
              "<Figure size 576x576 with 2 Axes>"
            ],
            "image/png": "[encoded data removed]"
          },
          "metadata": {
            "needs_background": "light"
          }
        }
      ]
    },
    {
      "cell_type": "markdown",
      "source": [
        "Let's add a LSTM Layer"
      ],
      "metadata": {
        "id": "bG4wa4vwJgJb"
      }
    },
    {
      "cell_type": "code",
      "source": [
        "inputs_new = layers.Input(shape=input_shape, name=\"input_layer_new\")\n",
        "y = base_model(inputs_new, training=False) \n",
        "y = layers.GlobalAveragePooling2D(name=\"pooling_layer2\")(y)\n",
        "# x = layers.Dense(128,activation=\"relu\")(x) \n",
        "# print(y.shape)\n",
        "y = layers.Bidirectional(layers.LSTM(224))(tf.expand_dims(y,axis=1))\n",
        "# z = tf.expand_dims(y,axis=0)\n",
        "# print(z.shape)\n",
        "# print(y.shape)\n",
        "y = layers.Dense(len(class_names))(y) \n",
        "# Separate activation of output layer so we can output float32 activations as required for mixed_precision training\n",
        "outputs_new = layers.Activation(\"softmax\", dtype=tf.float32, name=\"softmax_float32\")(y) \n",
        "model_2 = tf.keras.Model(inputs_new, outputs_new)\n",
        "\n",
        "\n",
        "model_2.compile(loss=\"sparse_categorical_crossentropy\", # Use sparse_categorical_crossentropy when labels are *not* one-hot\n",
        "              optimizer=tf.keras.optimizers.Adam(),\n",
        "              metrics=[\"accuracy\"])"
      ],
      "metadata": {
        "id": "5wFbTDdvJkzJ"
      },
      "execution_count": null,
      "outputs": []
    },
    {
      "cell_type": "code",
      "source": [
        "model_2.summary()"
      ],
      "metadata": {
        "colab": {
          "base_uri": "https://localhost:8080/"
        },
        "id": "4VuCss3JLtSY",
        "outputId": "48dff17e-9e13-420d-f543-58ecaeefc2ed"
      },
      "execution_count": null,
      "outputs": [
        {
          "output_type": "stream",
          "name": "stdout",
          "text": [
            "Model: \"model_12\"\n",
            "_________________________________________________________________\n",
            " Layer (type)                Output Shape              Param #   \n",
            "=================================================================\n",
            " input_layer_new (InputLayer  [(None, 224, 224, 3)]    0         \n",
            " )                                                               \n",
            "                                                                 \n",
            " efficientnetb0 (Functional)  (None, None, None, 1280)  4049571  \n",
            "                                                                 \n",
            " pooling_layer2 (GlobalAvera  (None, 1280)             0         \n",
            " gePooling2D)                                                    \n",
            "                                                                 \n",
            " tf.expand_dims_6 (TFOpLambd  (None, 1, 1280)          0         \n",
            " a)                                                              \n",
            "                                                                 \n",
            " bidirectional_5 (Bidirectio  (None, 448)              2696960   \n",
            " nal)                                                            \n",
            "                                                                 \n",
            " dense_14 (Dense)            (None, 101)               45349     \n",
            "                                                                 \n",
            " softmax_float32 (Activation  (None, 101)              0         \n",
            " )                                                               \n",
            "                                                                 \n",
            "=================================================================\n",
            "Total params: 6,791,880\n",
            "Trainable params: 4,093,269\n",
            "Non-trainable params: 2,698,611\n",
            "_________________________________________________________________\n"
          ]
        }
      ]
    },
    {
      "cell_type": "code",
      "source": [
        "history_3 = model_2.fit(train_data2,\n",
        "                        epochs=100,\n",
        "                        validation_data=test_data2,\n",
        "                        callbacks=[create_tensorboard_callback(\"model2_lstm\"),create_model_checkpoint(model_name=\"model2_lstm\"),early_stopping,reduce_lr])"
      ],
      "metadata": {
        "colab": {
          "base_uri": "https://localhost:8080/"
        },
        "id": "xCL7q0AMPY-X",
        "outputId": "588061f7-0900-4e43-9845-c199122e386a"
      },
      "execution_count": null,
      "outputs": [
        {
          "output_type": "stream",
          "name": "stdout",
          "text": [
            "Epoch 1/100\n",
            "2368/2368 [==============================] - ETA: 0s - loss: 1.6107 - accuracy: 0.5831"
          ]
        },
        {
          "output_type": "stream",
          "name": "stderr",
          "text": [
            "WARNING:absl:Found untraced functions such as lstm_cell_16_layer_call_fn, lstm_cell_16_layer_call_and_return_conditional_losses, lstm_cell_17_layer_call_fn, lstm_cell_17_layer_call_and_return_conditional_losses while saving (showing 4 of 4). These functions will not be directly callable after loading.\n"
          ]
        },
        {
          "output_type": "stream",
          "name": "stdout",
          "text": [
            "INFO:tensorflow:Assets written to: model_checkpoints/model2_lstm/assets\n"
          ]
        },
        {
          "output_type": "stream",
          "name": "stderr",
          "text": [
            "INFO:tensorflow:Assets written to: model_checkpoints/model2_lstm/assets\n",
            "WARNING:absl:<keras.layers.recurrent.LSTMCell object at 0x7f19b2947110> has the same name 'LSTMCell' as a built-in Keras object. Consider renaming <class 'keras.layers.recurrent.LSTMCell'> to avoid naming conflicts when loading with `tf.keras.models.load_model`. If renaming is not possible, pass the object in the `custom_objects` parameter of the load function.\n",
            "WARNING:absl:<keras.layers.recurrent.LSTMCell object at 0x7f19b2947cd0> has the same name 'LSTMCell' as a built-in Keras object. Consider renaming <class 'keras.layers.recurrent.LSTMCell'> to avoid naming conflicts when loading with `tf.keras.models.load_model`. If renaming is not possible, pass the object in the `custom_objects` parameter of the load function.\n"
          ]
        },
        {
          "output_type": "stream",
          "name": "stdout",
          "text": [
            "\b\b\b\b\b\b\b\b\b\b\b\b\b\b\b\b\b\b\b\b\b\b\b\b\b\b\b\b\b\b\b\b\b\b\b\b\b\b\b\b\b\b\b\b\b\b\b\b\b\b\b\b\b\b\b\b\b\b\b\b\b\b\b\b\b\b\b\b\b\b\b\b\b\b\b\b\b\b\b\b\b\b\b\b\b\b\r2368/2368 [==============================] - 340s 138ms/step - loss: 1.6107 - accuracy: 0.5831 - val_loss: 1.0867 - val_accuracy: 0.7049 - lr: 0.0010\n",
            "Epoch 2/100\n",
            "2367/2368 [============================>.] - ETA: 0s - loss: 1.0591 - accuracy: 0.7147"
          ]
        },
        {
          "output_type": "stream",
          "name": "stderr",
          "text": [
            "WARNING:absl:Found untraced functions such as lstm_cell_16_layer_call_fn, lstm_cell_16_layer_call_and_return_conditional_losses, lstm_cell_17_layer_call_fn, lstm_cell_17_layer_call_and_return_conditional_losses while saving (showing 4 of 4). These functions will not be directly callable after loading.\n"
          ]
        },
        {
          "output_type": "stream",
          "name": "stdout",
          "text": [
            "INFO:tensorflow:Assets written to: model_checkpoints/model2_lstm/assets\n"
          ]
        },
        {
          "output_type": "stream",
          "name": "stderr",
          "text": [
            "INFO:tensorflow:Assets written to: model_checkpoints/model2_lstm/assets\n",
            "WARNING:absl:<keras.layers.recurrent.LSTMCell object at 0x7f19b2947110> has the same name 'LSTMCell' as a built-in Keras object. Consider renaming <class 'keras.layers.recurrent.LSTMCell'> to avoid naming conflicts when loading with `tf.keras.models.load_model`. If renaming is not possible, pass the object in the `custom_objects` parameter of the load function.\n",
            "WARNING:absl:<keras.layers.recurrent.LSTMCell object at 0x7f19b2947cd0> has the same name 'LSTMCell' as a built-in Keras object. Consider renaming <class 'keras.layers.recurrent.LSTMCell'> to avoid naming conflicts when loading with `tf.keras.models.load_model`. If renaming is not possible, pass the object in the `custom_objects` parameter of the load function.\n"
          ]
        },
        {
          "output_type": "stream",
          "name": "stdout",
          "text": [
            "\b\b\b\b\b\b\b\b\b\b\b\b\b\b\b\b\b\b\b\b\b\b\b\b\b\b\b\b\b\b\b\b\b\b\b\b\b\b\b\b\b\b\b\b\b\b\b\b\b\b\b\b\b\b\b\b\b\b\b\b\b\b\b\b\b\b\b\b\b\b\b\b\b\b\b\b\b\b\b\b\b\b\b\b\b\b\r2368/2368 [==============================] - 308s 129ms/step - loss: 1.0591 - accuracy: 0.7147 - val_loss: 1.0222 - val_accuracy: 0.7248 - lr: 0.0010\n",
            "Epoch 3/100\n",
            "2367/2368 [============================>.] - ETA: 0s - loss: 0.8109 - accuracy: 0.7755"
          ]
        },
        {
          "output_type": "stream",
          "name": "stderr",
          "text": [
            "WARNING:absl:Found untraced functions such as lstm_cell_16_layer_call_fn, lstm_cell_16_layer_call_and_return_conditional_losses, lstm_cell_17_layer_call_fn, lstm_cell_17_layer_call_and_return_conditional_losses while saving (showing 4 of 4). These functions will not be directly callable after loading.\n"
          ]
        },
        {
          "output_type": "stream",
          "name": "stdout",
          "text": [
            "INFO:tensorflow:Assets written to: model_checkpoints/model2_lstm/assets\n"
          ]
        },
        {
          "output_type": "stream",
          "name": "stderr",
          "text": [
            "INFO:tensorflow:Assets written to: model_checkpoints/model2_lstm/assets\n",
            "WARNING:absl:<keras.layers.recurrent.LSTMCell object at 0x7f19b2947110> has the same name 'LSTMCell' as a built-in Keras object. Consider renaming <class 'keras.layers.recurrent.LSTMCell'> to avoid naming conflicts when loading with `tf.keras.models.load_model`. If renaming is not possible, pass the object in the `custom_objects` parameter of the load function.\n",
            "WARNING:absl:<keras.layers.recurrent.LSTMCell object at 0x7f19b2947cd0> has the same name 'LSTMCell' as a built-in Keras object. Consider renaming <class 'keras.layers.recurrent.LSTMCell'> to avoid naming conflicts when loading with `tf.keras.models.load_model`. If renaming is not possible, pass the object in the `custom_objects` parameter of the load function.\n"
          ]
        },
        {
          "output_type": "stream",
          "name": "stdout",
          "text": [
            "\b\b\b\b\b\b\b\b\b\b\b\b\b\b\b\b\b\b\b\b\b\b\b\b\b\b\b\b\b\b\b\b\b\b\b\b\b\b\b\b\b\b\b\b\b\b\b\b\b\b\b\b\b\b\b\b\b\b\b\b\b\b\b\b\b\b\b\b\b\b\b\b\b\b\b\b\b\b\b\b\b\b\b\b\b\b\r2368/2368 [==============================] - 274s 115ms/step - loss: 0.8109 - accuracy: 0.7755 - val_loss: 0.9956 - val_accuracy: 0.7349 - lr: 0.0010\n",
            "Epoch 4/100\n",
            "2368/2368 [==============================] - 261s 109ms/step - loss: 0.6297 - accuracy: 0.8197 - val_loss: 1.0430 - val_accuracy: 0.7325 - lr: 0.0010\n",
            "Epoch 5/100\n",
            "2367/2368 [============================>.] - ETA: 0s - loss: 0.4970 - accuracy: 0.8544\n",
            "Epoch 5: ReduceLROnPlateau reducing learning rate to 0.00020000000949949026.\n",
            "2368/2368 [==============================] - 226s 94ms/step - loss: 0.4970 - accuracy: 0.8544 - val_loss: 1.0731 - val_accuracy: 0.7311 - lr: 0.0010\n",
            "Epoch 6/100\n",
            "2368/2368 [==============================] - ETA: 0s - loss: 0.1859 - accuracy: 0.9478"
          ]
        },
        {
          "output_type": "stream",
          "name": "stderr",
          "text": [
            "WARNING:absl:Found untraced functions such as lstm_cell_16_layer_call_fn, lstm_cell_16_layer_call_and_return_conditional_losses, lstm_cell_17_layer_call_fn, lstm_cell_17_layer_call_and_return_conditional_losses while saving (showing 4 of 4). These functions will not be directly callable after loading.\n"
          ]
        },
        {
          "output_type": "stream",
          "name": "stdout",
          "text": [
            "INFO:tensorflow:Assets written to: model_checkpoints/model2_lstm/assets\n"
          ]
        },
        {
          "output_type": "stream",
          "name": "stderr",
          "text": [
            "INFO:tensorflow:Assets written to: model_checkpoints/model2_lstm/assets\n",
            "WARNING:absl:<keras.layers.recurrent.LSTMCell object at 0x7f19b2947110> has the same name 'LSTMCell' as a built-in Keras object. Consider renaming <class 'keras.layers.recurrent.LSTMCell'> to avoid naming conflicts when loading with `tf.keras.models.load_model`. If renaming is not possible, pass the object in the `custom_objects` parameter of the load function.\n",
            "WARNING:absl:<keras.layers.recurrent.LSTMCell object at 0x7f19b2947cd0> has the same name 'LSTMCell' as a built-in Keras object. Consider renaming <class 'keras.layers.recurrent.LSTMCell'> to avoid naming conflicts when loading with `tf.keras.models.load_model`. If renaming is not possible, pass the object in the `custom_objects` parameter of the load function.\n"
          ]
        },
        {
          "output_type": "stream",
          "name": "stdout",
          "text": [
            "\b\b\b\b\b\b\b\b\b\b\b\b\b\b\b\b\b\b\b\b\b\b\b\b\b\b\b\b\b\b\b\b\b\b\b\b\b\b\b\b\b\b\b\b\b\b\b\b\b\b\b\b\b\b\b\b\b\b\b\b\b\b\b\b\b\b\b\b\b\b\b\b\b\b\b\b\b\b\b\b\b\b\b\b\b\b\r2368/2368 [==============================] - 275s 115ms/step - loss: 0.1859 - accuracy: 0.9478 - val_loss: 0.9434 - val_accuracy: 0.7728 - lr: 2.0000e-04\n",
            "Epoch 7/100\n",
            "2368/2368 [==============================] - 226s 94ms/step - loss: 0.0750 - accuracy: 0.9838 - val_loss: 0.9901 - val_accuracy: 0.7746 - lr: 2.0000e-04\n",
            "Epoch 8/100\n",
            "2368/2368 [==============================] - ETA: 0s - loss: 0.0314 - accuracy: 0.9959\n",
            "Epoch 8: ReduceLROnPlateau reducing learning rate to 4.0000001899898055e-05.\n",
            "2368/2368 [==============================] - 226s 94ms/step - loss: 0.0314 - accuracy: 0.9959 - val_loss: 1.0596 - val_accuracy: 0.7728 - lr: 2.0000e-04\n",
            "Epoch 9/100\n",
            "2368/2368 [==============================] - 261s 109ms/step - loss: 0.0118 - accuracy: 0.9992 - val_loss: 1.0717 - val_accuracy: 0.7763 - lr: 4.0000e-05\n"
          ]
        }
      ]
    },
    {
      "cell_type": "code",
      "source": [
        "model_2_loaded = tf.keras.models.load_model(\"model_checkpoints/model2_lstm\")\n",
        "model_2_loaded.evaluate(test_data2)"
      ],
      "metadata": {
        "colab": {
          "base_uri": "https://localhost:8080/"
        },
        "id": "YOLhC0AfchEH",
        "outputId": "cecdcb60-b2a2-459e-dfcf-34b2d40ca505"
      },
      "execution_count": null,
      "outputs": [
        {
          "output_type": "stream",
          "name": "stdout",
          "text": [
            "790/790 [==============================] - 62s 74ms/step - loss: 0.9434 - accuracy: 0.7728\n"
          ]
        },
        {
          "output_type": "execute_result",
          "data": {
            "text/plain": [
              "[0.9434129595756531, 0.7727524638175964]"
            ]
          },
          "metadata": {},
          "execution_count": 101
        }
      ]
    },
    {
      "cell_type": "code",
      "source": [
        "plot_loss_curves(history_3)"
      ],
      "metadata": {
        "colab": {
          "base_uri": "https://localhost:8080/",
          "height": 573
        },
        "id": "H0NGs-I7csk4",
        "outputId": "269c6876-71f0-45c3-e0e4-1506ace98aff"
      },
      "execution_count": null,
      "outputs": [
        {
          "output_type": "display_data",
          "data": {
            "text/plain": [
              "<Figure size 432x288 with 1 Axes>"
            ],
            "image/png": "[encoded data removed]"
          },
          "metadata": {
            "needs_background": "light"
          }
        },
        {
          "output_type": "display_data",
          "data": {
            "text/plain": [
              "<Figure size 432x288 with 1 Axes>"
            ],
            "image/png": "[encoded data removed]"
          },
          "metadata": {
            "needs_background": "light"
          }
        }
      ]
    },
    {
      "cell_type": "code",
      "source": [
        "# sample_1 = train_data.take(1)\n",
        "def get_and_pred(sample_file):\n",
        "  for img,lbl in sample_file:\n",
        "    img,lbl = preprocess_img(img,lbl)\n",
        "    preds_prob = model_2.predict(tf.expand_dims(img,axis=0))\n",
        "    preds = preds_prob.argmax()\n",
        "    this_title = \"Image: \"+class_names[lbl.numpy()]+\" : \"+\"Predicted: \"+class_names[preds]+\" , Probability: \"+ str(np.max(preds_prob))\n",
        "    clr = \"r\"\n",
        "    if(class_names[lbl.numpy()]==class_names[preds]):\n",
        "      clr = \"g\"\n",
        "\n",
        "    plt.title(this_title,color=clr)\n",
        "    plt.axis(False)\n",
        "    img = img/255\n",
        "    plt.imshow(img)\n",
        "\n"
      ],
      "metadata": {
        "id": "SfEihQ6phKJ6"
      },
      "execution_count": null,
      "outputs": []
    },
    {
      "cell_type": "code",
      "source": [
        "get_and_pred(sample_img)"
      ],
      "metadata": {
        "colab": {
          "base_uri": "https://localhost:8080/",
          "height": 264
        },
        "id": "x_3wn0oYiZ-2",
        "outputId": "a5f51ded-3ee8-4972-e463-621979b85f26"
      },
      "execution_count": null,
      "outputs": [
        {
          "output_type": "display_data",
          "data": {
            "text/plain": [
              "<Figure size 432x288 with 1 Axes>"
            ],
            "image/png": "[encoded data removed]"
          },
          "metadata": {
            "needs_background": "light"
          }
        }
      ]
    },
    {
      "cell_type": "markdown",
      "source": [
        "A simple model from scratch"
      ],
      "metadata": {
        "id": "ptBwgf_xQl_u"
      }
    },
    {
      "cell_type": "code",
      "source": [
        "model = tf.keras.models.Sequential([ \n",
        "      layers.Conv2D(filters = 64 , kernel_size = (3,3), activation=\"relu\", input_shape=(224,224,3)),\n",
        "      layers.MaxPooling2D(pool_size = (3,3)),\n",
        "      layers.Conv2D(filters = 32 , kernel_size = (3,3), activation=\"relu\"),\n",
        "      layers.MaxPooling2D(pool_size = (3,3)),\n",
        "      layers.Conv2D(filters = 32 , kernel_size = (3,3), activation=\"relu\"),\n",
        "      layers.MaxPooling2D(pool_size = (3,3)),\n",
        "      layers.Flatten(),\n",
        "      layers.Dense(units = 512 , activation=\"relu\"),\n",
        "      layers.Dropout(rate = 0.5),\n",
        "      layers.Dense(units = len(class_names) , activation=\"softmax\")\n",
        "  ])"
      ],
      "metadata": {
        "id": "3qMCsW1HQqSl"
      },
      "execution_count": 22,
      "outputs": []
    },
    {
      "cell_type": "code",
      "source": [
        "model.compile(optimizer = tf.optimizers.Adam(learning_rate = 0.001),\n",
        "                loss = \"sparse_categorical_crossentropy\",\n",
        "                metrics=['accuracy'])"
      ],
      "metadata": {
        "id": "msHiWTncdARt"
      },
      "execution_count": 23,
      "outputs": []
    },
    {
      "cell_type": "code",
      "source": [
        "history_4 =  model.fit(train_data2,\n",
        "                        epochs=10,\n",
        "                        validation_data=test_data2,\n",
        "                        callbacks=[create_tensorboard_callback(\"model_simple\"),create_model_checkpoint(model_name=\"model_simple\"),early_stopping,reduce_lr])"
      ],
      "metadata": {
        "colab": {
          "base_uri": "https://localhost:8080/"
        },
        "id": "TLOPT4x1dEh5",
        "outputId": "1bac3b20-6bd9-4e2c-a785-7e10b3357caa"
      },
      "execution_count": 28,
      "outputs": [
        {
          "output_type": "stream",
          "name": "stdout",
          "text": [
            "Epoch 1/10\n",
            "2367/2368 [============================>.] - ETA: 0s - loss: 3.9590 - accuracy: 0.1055INFO:tensorflow:Assets written to: model_checkpoints/model_simple/assets\n"
          ]
        },
        {
          "output_type": "stream",
          "name": "stderr",
          "text": [
            "INFO:tensorflow:Assets written to: model_checkpoints/model_simple/assets\n"
          ]
        },
        {
          "output_type": "stream",
          "name": "stdout",
          "text": [
            "\b\b\b\b\b\b\b\b\b\b\b\b\b\b\b\b\b\b\b\b\b\b\b\b\b\b\b\b\b\b\b\b\b\b\b\b\b\b\b\b\b\b\b\b\b\b\b\b\b\b\b\b\b\b\b\b\b\b\b\b\b\b\b\b\b\b\b\b\b\b\b\b\b\b\b\b\b\b\b\b\b\b\b\b\b\b\r2368/2368 [==============================] - 197s 81ms/step - loss: 3.9590 - accuracy: 0.1055 - val_loss: 3.9929 - val_accuracy: 0.1035 - lr: 0.0010\n",
            "Epoch 2/10\n",
            "2367/2368 [============================>.] - ETA: 0s - loss: 3.8710 - accuracy: 0.1184INFO:tensorflow:Assets written to: model_checkpoints/model_simple/assets\n"
          ]
        },
        {
          "output_type": "stream",
          "name": "stderr",
          "text": [
            "INFO:tensorflow:Assets written to: model_checkpoints/model_simple/assets\n"
          ]
        },
        {
          "output_type": "stream",
          "name": "stdout",
          "text": [
            "\b\b\b\b\b\b\b\b\b\b\b\b\b\b\b\b\b\b\b\b\b\b\b\b\b\b\b\b\b\b\b\b\b\b\b\b\b\b\b\b\b\b\b\b\b\b\b\b\b\b\b\b\b\b\b\b\b\b\b\b\b\b\b\b\b\b\b\b\b\b\b\b\b\b\b\b\b\b\b\b\b\b\b\b\b\b\r2368/2368 [==============================] - 187s 78ms/step - loss: 3.8711 - accuracy: 0.1184 - val_loss: 3.9583 - val_accuracy: 0.1081 - lr: 0.0010\n",
            "Epoch 3/10\n",
            "2367/2368 [============================>.] - ETA: 0s - loss: 3.7994 - accuracy: 0.1293INFO:tensorflow:Assets written to: model_checkpoints/model_simple/assets\n"
          ]
        },
        {
          "output_type": "stream",
          "name": "stderr",
          "text": [
            "INFO:tensorflow:Assets written to: model_checkpoints/model_simple/assets\n"
          ]
        },
        {
          "output_type": "stream",
          "name": "stdout",
          "text": [
            "\b\b\b\b\b\b\b\b\b\b\b\b\b\b\b\b\b\b\b\b\b\b\b\b\b\b\b\b\b\b\b\b\b\b\b\b\b\b\b\b\b\b\b\b\b\b\b\b\b\b\b\b\b\b\b\b\b\b\b\b\b\b\b\b\b\b\b\b\b\b\b\b\b\b\b\b\b\b\b\b\b\b\b\b\b\b\r2368/2368 [==============================] - 191s 80ms/step - loss: 3.7994 - accuracy: 0.1293 - val_loss: 3.9227 - val_accuracy: 0.1090 - lr: 0.0010\n",
            "Epoch 4/10\n",
            "2368/2368 [==============================] - 187s 78ms/step - loss: 3.7139 - accuracy: 0.1451 - val_loss: 3.9739 - val_accuracy: 0.1063 - lr: 0.0010\n",
            "Epoch 5/10\n",
            "2367/2368 [============================>.] - ETA: 0s - loss: 3.6483 - accuracy: 0.1543\n",
            "Epoch 5: ReduceLROnPlateau reducing learning rate to 0.00020000000949949026.\n",
            "2368/2368 [==============================] - 186s 78ms/step - loss: 3.6483 - accuracy: 0.1543 - val_loss: 4.0441 - val_accuracy: 0.1021 - lr: 0.0010\n",
            "Epoch 6/10\n",
            "2368/2368 [==============================] - 188s 79ms/step - loss: 3.3392 - accuracy: 0.2082 - val_loss: 3.9710 - val_accuracy: 0.1164 - lr: 2.0000e-04\n"
          ]
        }
      ]
    }
  ]
}